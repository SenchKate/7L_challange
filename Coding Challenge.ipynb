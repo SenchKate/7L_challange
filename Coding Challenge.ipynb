{
 "cells": [
  {
   "cell_type": "code",
   "execution_count": 1,
   "metadata": {},
   "outputs": [],
   "source": [
    "%load_ext google.cloud.bigquery"
   ]
  },
  {
   "cell_type": "markdown",
   "metadata": {},
   "source": [
    "# \"Will it snow tomorrow?\" - The time traveler asked\n",
    "The following dataset contains climate information from over 9000 stations accross the world. The overall goal of these subtasks will be to predict whether it will snow tomorrow 14 years ago. So if today is 2023.10.27 then the weather we want to forecast is for the date 2009.10.28. You are supposed to solve the tasks using Big Query, which can be used in the Jupyter Notebook like it is shown in the following cell. For further information and how to use BigQuery in Jupyter Notebook refer to the Google Docs. \n",
    "\n",
    "The goal of this test is to test your coding knowledge in Python, BigQuery and Pandas as well as your understanding of Data Science. If you get stuck in the first part, you can use the replacement data provided in the second part"
   ]
  },
  {
   "cell_type": "code",
   "execution_count": 2,
   "metadata": {
    "scrolled": false
   },
   "outputs": [
    {
     "name": "stderr",
     "output_type": "stream",
     "text": [
      "Query complete after 0.07s: 100%|██████████| 1/1 [00:00<00:00, 262.39query/s]\n",
      "Downloading: 100%|██████████| 20/20 [00:06<00:00,  2.95rows/s]\n"
     ]
    },
    {
     "data": {
      "text/html": [
       "<div>\n",
       "<style scoped>\n",
       "    .dataframe tbody tr th:only-of-type {\n",
       "        vertical-align: middle;\n",
       "    }\n",
       "\n",
       "    .dataframe tbody tr th {\n",
       "        vertical-align: top;\n",
       "    }\n",
       "\n",
       "    .dataframe thead th {\n",
       "        text-align: right;\n",
       "    }\n",
       "</style>\n",
       "<table border=\"1\" class=\"dataframe\">\n",
       "  <thead>\n",
       "    <tr style=\"text-align: right;\">\n",
       "      <th></th>\n",
       "      <th>station_number</th>\n",
       "      <th>wban_number</th>\n",
       "      <th>year</th>\n",
       "      <th>month</th>\n",
       "      <th>day</th>\n",
       "      <th>mean_temp</th>\n",
       "      <th>num_mean_temp_samples</th>\n",
       "      <th>mean_dew_point</th>\n",
       "      <th>num_mean_dew_point_samples</th>\n",
       "      <th>mean_sealevel_pressure</th>\n",
       "      <th>...</th>\n",
       "      <th>min_temperature</th>\n",
       "      <th>min_temperature_explicit</th>\n",
       "      <th>total_precipitation</th>\n",
       "      <th>snow_depth</th>\n",
       "      <th>fog</th>\n",
       "      <th>rain</th>\n",
       "      <th>snow</th>\n",
       "      <th>hail</th>\n",
       "      <th>thunder</th>\n",
       "      <th>tornado</th>\n",
       "    </tr>\n",
       "  </thead>\n",
       "  <tbody>\n",
       "    <tr>\n",
       "      <th>0</th>\n",
       "      <td>30050</td>\n",
       "      <td>99999</td>\n",
       "      <td>1929</td>\n",
       "      <td>12</td>\n",
       "      <td>28</td>\n",
       "      <td>40.000000</td>\n",
       "      <td>4</td>\n",
       "      <td>35.000000</td>\n",
       "      <td>4.0</td>\n",
       "      <td>990.500000</td>\n",
       "      <td>...</td>\n",
       "      <td>NaN</td>\n",
       "      <td>None</td>\n",
       "      <td>0.00</td>\n",
       "      <td>NaN</td>\n",
       "      <td>False</td>\n",
       "      <td>False</td>\n",
       "      <td>False</td>\n",
       "      <td>False</td>\n",
       "      <td>False</td>\n",
       "      <td>False</td>\n",
       "    </tr>\n",
       "    <tr>\n",
       "      <th>1</th>\n",
       "      <td>30910</td>\n",
       "      <td>99999</td>\n",
       "      <td>1929</td>\n",
       "      <td>10</td>\n",
       "      <td>27</td>\n",
       "      <td>39.000000</td>\n",
       "      <td>4</td>\n",
       "      <td>NaN</td>\n",
       "      <td>NaN</td>\n",
       "      <td>NaN</td>\n",
       "      <td>...</td>\n",
       "      <td>NaN</td>\n",
       "      <td>None</td>\n",
       "      <td>0.08</td>\n",
       "      <td>NaN</td>\n",
       "      <td>False</td>\n",
       "      <td>False</td>\n",
       "      <td>False</td>\n",
       "      <td>False</td>\n",
       "      <td>False</td>\n",
       "      <td>False</td>\n",
       "    </tr>\n",
       "    <tr>\n",
       "      <th>2</th>\n",
       "      <td>31590</td>\n",
       "      <td>99999</td>\n",
       "      <td>1929</td>\n",
       "      <td>11</td>\n",
       "      <td>14</td>\n",
       "      <td>36.000000</td>\n",
       "      <td>4</td>\n",
       "      <td>33.500000</td>\n",
       "      <td>4.0</td>\n",
       "      <td>999.299988</td>\n",
       "      <td>...</td>\n",
       "      <td>NaN</td>\n",
       "      <td>None</td>\n",
       "      <td>0.00</td>\n",
       "      <td>NaN</td>\n",
       "      <td>False</td>\n",
       "      <td>False</td>\n",
       "      <td>False</td>\n",
       "      <td>False</td>\n",
       "      <td>False</td>\n",
       "      <td>False</td>\n",
       "    </tr>\n",
       "    <tr>\n",
       "      <th>3</th>\n",
       "      <td>38640</td>\n",
       "      <td>99999</td>\n",
       "      <td>1929</td>\n",
       "      <td>10</td>\n",
       "      <td>11</td>\n",
       "      <td>58.500000</td>\n",
       "      <td>4</td>\n",
       "      <td>53.299999</td>\n",
       "      <td>4.0</td>\n",
       "      <td>1025.599976</td>\n",
       "      <td>...</td>\n",
       "      <td>NaN</td>\n",
       "      <td>None</td>\n",
       "      <td>NaN</td>\n",
       "      <td>NaN</td>\n",
       "      <td>False</td>\n",
       "      <td>False</td>\n",
       "      <td>False</td>\n",
       "      <td>False</td>\n",
       "      <td>False</td>\n",
       "      <td>False</td>\n",
       "    </tr>\n",
       "    <tr>\n",
       "      <th>4</th>\n",
       "      <td>37950</td>\n",
       "      <td>99999</td>\n",
       "      <td>1929</td>\n",
       "      <td>10</td>\n",
       "      <td>12</td>\n",
       "      <td>53.500000</td>\n",
       "      <td>4</td>\n",
       "      <td>49.000000</td>\n",
       "      <td>4.0</td>\n",
       "      <td>1028.000000</td>\n",
       "      <td>...</td>\n",
       "      <td>NaN</td>\n",
       "      <td>None</td>\n",
       "      <td>0.00</td>\n",
       "      <td>NaN</td>\n",
       "      <td>False</td>\n",
       "      <td>False</td>\n",
       "      <td>False</td>\n",
       "      <td>False</td>\n",
       "      <td>False</td>\n",
       "      <td>False</td>\n",
       "    </tr>\n",
       "    <tr>\n",
       "      <th>5</th>\n",
       "      <td>38640</td>\n",
       "      <td>99999</td>\n",
       "      <td>1929</td>\n",
       "      <td>12</td>\n",
       "      <td>9</td>\n",
       "      <td>49.000000</td>\n",
       "      <td>4</td>\n",
       "      <td>40.500000</td>\n",
       "      <td>4.0</td>\n",
       "      <td>998.900024</td>\n",
       "      <td>...</td>\n",
       "      <td>NaN</td>\n",
       "      <td>None</td>\n",
       "      <td>NaN</td>\n",
       "      <td>NaN</td>\n",
       "      <td>False</td>\n",
       "      <td>False</td>\n",
       "      <td>False</td>\n",
       "      <td>False</td>\n",
       "      <td>False</td>\n",
       "      <td>False</td>\n",
       "    </tr>\n",
       "    <tr>\n",
       "      <th>6</th>\n",
       "      <td>34970</td>\n",
       "      <td>99999</td>\n",
       "      <td>1929</td>\n",
       "      <td>8</td>\n",
       "      <td>16</td>\n",
       "      <td>61.000000</td>\n",
       "      <td>4</td>\n",
       "      <td>54.700001</td>\n",
       "      <td>4.0</td>\n",
       "      <td>1015.000000</td>\n",
       "      <td>...</td>\n",
       "      <td>NaN</td>\n",
       "      <td>None</td>\n",
       "      <td>0.00</td>\n",
       "      <td>NaN</td>\n",
       "      <td>False</td>\n",
       "      <td>False</td>\n",
       "      <td>False</td>\n",
       "      <td>False</td>\n",
       "      <td>False</td>\n",
       "      <td>False</td>\n",
       "    </tr>\n",
       "    <tr>\n",
       "      <th>7</th>\n",
       "      <td>37950</td>\n",
       "      <td>99999</td>\n",
       "      <td>1929</td>\n",
       "      <td>11</td>\n",
       "      <td>17</td>\n",
       "      <td>39.000000</td>\n",
       "      <td>4</td>\n",
       "      <td>34.700001</td>\n",
       "      <td>4.0</td>\n",
       "      <td>1005.099976</td>\n",
       "      <td>...</td>\n",
       "      <td>NaN</td>\n",
       "      <td>None</td>\n",
       "      <td>0.00</td>\n",
       "      <td>NaN</td>\n",
       "      <td>False</td>\n",
       "      <td>False</td>\n",
       "      <td>False</td>\n",
       "      <td>False</td>\n",
       "      <td>False</td>\n",
       "      <td>False</td>\n",
       "    </tr>\n",
       "    <tr>\n",
       "      <th>8</th>\n",
       "      <td>37950</td>\n",
       "      <td>99999</td>\n",
       "      <td>1929</td>\n",
       "      <td>8</td>\n",
       "      <td>6</td>\n",
       "      <td>57.000000</td>\n",
       "      <td>4</td>\n",
       "      <td>55.299999</td>\n",
       "      <td>4.0</td>\n",
       "      <td>1010.299988</td>\n",
       "      <td>...</td>\n",
       "      <td>NaN</td>\n",
       "      <td>None</td>\n",
       "      <td>NaN</td>\n",
       "      <td>NaN</td>\n",
       "      <td>False</td>\n",
       "      <td>False</td>\n",
       "      <td>False</td>\n",
       "      <td>False</td>\n",
       "      <td>False</td>\n",
       "      <td>False</td>\n",
       "    </tr>\n",
       "    <tr>\n",
       "      <th>9</th>\n",
       "      <td>39800</td>\n",
       "      <td>99999</td>\n",
       "      <td>1929</td>\n",
       "      <td>11</td>\n",
       "      <td>1</td>\n",
       "      <td>51.000000</td>\n",
       "      <td>4</td>\n",
       "      <td>49.799999</td>\n",
       "      <td>4.0</td>\n",
       "      <td>1023.799988</td>\n",
       "      <td>...</td>\n",
       "      <td>NaN</td>\n",
       "      <td>None</td>\n",
       "      <td>NaN</td>\n",
       "      <td>NaN</td>\n",
       "      <td>False</td>\n",
       "      <td>False</td>\n",
       "      <td>False</td>\n",
       "      <td>False</td>\n",
       "      <td>False</td>\n",
       "      <td>False</td>\n",
       "    </tr>\n",
       "    <tr>\n",
       "      <th>10</th>\n",
       "      <td>33790</td>\n",
       "      <td>99999</td>\n",
       "      <td>1929</td>\n",
       "      <td>8</td>\n",
       "      <td>14</td>\n",
       "      <td>62.200001</td>\n",
       "      <td>4</td>\n",
       "      <td>52.799999</td>\n",
       "      <td>4.0</td>\n",
       "      <td>1018.099976</td>\n",
       "      <td>...</td>\n",
       "      <td>NaN</td>\n",
       "      <td>None</td>\n",
       "      <td>0.00</td>\n",
       "      <td>NaN</td>\n",
       "      <td>False</td>\n",
       "      <td>False</td>\n",
       "      <td>False</td>\n",
       "      <td>False</td>\n",
       "      <td>False</td>\n",
       "      <td>False</td>\n",
       "    </tr>\n",
       "    <tr>\n",
       "      <th>11</th>\n",
       "      <td>31590</td>\n",
       "      <td>99999</td>\n",
       "      <td>1929</td>\n",
       "      <td>12</td>\n",
       "      <td>12</td>\n",
       "      <td>43.000000</td>\n",
       "      <td>4</td>\n",
       "      <td>37.500000</td>\n",
       "      <td>4.0</td>\n",
       "      <td>996.799988</td>\n",
       "      <td>...</td>\n",
       "      <td>NaN</td>\n",
       "      <td>None</td>\n",
       "      <td>NaN</td>\n",
       "      <td>NaN</td>\n",
       "      <td>False</td>\n",
       "      <td>False</td>\n",
       "      <td>False</td>\n",
       "      <td>False</td>\n",
       "      <td>False</td>\n",
       "      <td>False</td>\n",
       "    </tr>\n",
       "    <tr>\n",
       "      <th>12</th>\n",
       "      <td>33110</td>\n",
       "      <td>99999</td>\n",
       "      <td>1929</td>\n",
       "      <td>11</td>\n",
       "      <td>29</td>\n",
       "      <td>50.500000</td>\n",
       "      <td>4</td>\n",
       "      <td>48.700001</td>\n",
       "      <td>4.0</td>\n",
       "      <td>995.799988</td>\n",
       "      <td>...</td>\n",
       "      <td>NaN</td>\n",
       "      <td>None</td>\n",
       "      <td>NaN</td>\n",
       "      <td>NaN</td>\n",
       "      <td>False</td>\n",
       "      <td>False</td>\n",
       "      <td>False</td>\n",
       "      <td>False</td>\n",
       "      <td>False</td>\n",
       "      <td>False</td>\n",
       "    </tr>\n",
       "    <tr>\n",
       "      <th>13</th>\n",
       "      <td>33960</td>\n",
       "      <td>99999</td>\n",
       "      <td>1929</td>\n",
       "      <td>11</td>\n",
       "      <td>23</td>\n",
       "      <td>47.799999</td>\n",
       "      <td>4</td>\n",
       "      <td>45.799999</td>\n",
       "      <td>4.0</td>\n",
       "      <td>992.299988</td>\n",
       "      <td>...</td>\n",
       "      <td>NaN</td>\n",
       "      <td>None</td>\n",
       "      <td>0.00</td>\n",
       "      <td>NaN</td>\n",
       "      <td>False</td>\n",
       "      <td>False</td>\n",
       "      <td>False</td>\n",
       "      <td>False</td>\n",
       "      <td>False</td>\n",
       "      <td>False</td>\n",
       "    </tr>\n",
       "    <tr>\n",
       "      <th>14</th>\n",
       "      <td>37950</td>\n",
       "      <td>99999</td>\n",
       "      <td>1929</td>\n",
       "      <td>8</td>\n",
       "      <td>9</td>\n",
       "      <td>57.299999</td>\n",
       "      <td>4</td>\n",
       "      <td>50.700001</td>\n",
       "      <td>4.0</td>\n",
       "      <td>1017.400024</td>\n",
       "      <td>...</td>\n",
       "      <td>NaN</td>\n",
       "      <td>None</td>\n",
       "      <td>0.00</td>\n",
       "      <td>NaN</td>\n",
       "      <td>False</td>\n",
       "      <td>False</td>\n",
       "      <td>False</td>\n",
       "      <td>False</td>\n",
       "      <td>False</td>\n",
       "      <td>False</td>\n",
       "    </tr>\n",
       "    <tr>\n",
       "      <th>15</th>\n",
       "      <td>31590</td>\n",
       "      <td>99999</td>\n",
       "      <td>1929</td>\n",
       "      <td>11</td>\n",
       "      <td>25</td>\n",
       "      <td>48.500000</td>\n",
       "      <td>4</td>\n",
       "      <td>44.200001</td>\n",
       "      <td>4.0</td>\n",
       "      <td>988.400024</td>\n",
       "      <td>...</td>\n",
       "      <td>NaN</td>\n",
       "      <td>None</td>\n",
       "      <td>NaN</td>\n",
       "      <td>NaN</td>\n",
       "      <td>False</td>\n",
       "      <td>False</td>\n",
       "      <td>False</td>\n",
       "      <td>False</td>\n",
       "      <td>False</td>\n",
       "      <td>False</td>\n",
       "    </tr>\n",
       "    <tr>\n",
       "      <th>16</th>\n",
       "      <td>33790</td>\n",
       "      <td>99999</td>\n",
       "      <td>1929</td>\n",
       "      <td>8</td>\n",
       "      <td>6</td>\n",
       "      <td>58.799999</td>\n",
       "      <td>4</td>\n",
       "      <td>55.799999</td>\n",
       "      <td>4.0</td>\n",
       "      <td>1004.900024</td>\n",
       "      <td>...</td>\n",
       "      <td>NaN</td>\n",
       "      <td>None</td>\n",
       "      <td>NaN</td>\n",
       "      <td>NaN</td>\n",
       "      <td>False</td>\n",
       "      <td>False</td>\n",
       "      <td>False</td>\n",
       "      <td>False</td>\n",
       "      <td>False</td>\n",
       "      <td>False</td>\n",
       "    </tr>\n",
       "    <tr>\n",
       "      <th>17</th>\n",
       "      <td>37950</td>\n",
       "      <td>99999</td>\n",
       "      <td>1929</td>\n",
       "      <td>8</td>\n",
       "      <td>2</td>\n",
       "      <td>56.299999</td>\n",
       "      <td>4</td>\n",
       "      <td>49.500000</td>\n",
       "      <td>4.0</td>\n",
       "      <td>1013.099976</td>\n",
       "      <td>...</td>\n",
       "      <td>NaN</td>\n",
       "      <td>None</td>\n",
       "      <td>0.00</td>\n",
       "      <td>NaN</td>\n",
       "      <td>False</td>\n",
       "      <td>False</td>\n",
       "      <td>False</td>\n",
       "      <td>False</td>\n",
       "      <td>False</td>\n",
       "      <td>False</td>\n",
       "    </tr>\n",
       "    <tr>\n",
       "      <th>18</th>\n",
       "      <td>34970</td>\n",
       "      <td>99999</td>\n",
       "      <td>1929</td>\n",
       "      <td>11</td>\n",
       "      <td>11</td>\n",
       "      <td>42.200001</td>\n",
       "      <td>5</td>\n",
       "      <td>40.500000</td>\n",
       "      <td>4.0</td>\n",
       "      <td>1009.299988</td>\n",
       "      <td>...</td>\n",
       "      <td>NaN</td>\n",
       "      <td>None</td>\n",
       "      <td>NaN</td>\n",
       "      <td>NaN</td>\n",
       "      <td>False</td>\n",
       "      <td>False</td>\n",
       "      <td>False</td>\n",
       "      <td>False</td>\n",
       "      <td>False</td>\n",
       "      <td>False</td>\n",
       "    </tr>\n",
       "    <tr>\n",
       "      <th>19</th>\n",
       "      <td>34970</td>\n",
       "      <td>99999</td>\n",
       "      <td>1929</td>\n",
       "      <td>12</td>\n",
       "      <td>1</td>\n",
       "      <td>47.400002</td>\n",
       "      <td>5</td>\n",
       "      <td>45.700001</td>\n",
       "      <td>4.0</td>\n",
       "      <td>993.099976</td>\n",
       "      <td>...</td>\n",
       "      <td>NaN</td>\n",
       "      <td>None</td>\n",
       "      <td>0.00</td>\n",
       "      <td>NaN</td>\n",
       "      <td>True</td>\n",
       "      <td>True</td>\n",
       "      <td>True</td>\n",
       "      <td>True</td>\n",
       "      <td>True</td>\n",
       "      <td>True</td>\n",
       "    </tr>\n",
       "  </tbody>\n",
       "</table>\n",
       "<p>20 rows × 31 columns</p>\n",
       "</div>"
      ],
      "text/plain": [
       "    station_number  wban_number  year  month  day  mean_temp  \\\n",
       "0            30050        99999  1929     12   28  40.000000   \n",
       "1            30910        99999  1929     10   27  39.000000   \n",
       "2            31590        99999  1929     11   14  36.000000   \n",
       "3            38640        99999  1929     10   11  58.500000   \n",
       "4            37950        99999  1929     10   12  53.500000   \n",
       "5            38640        99999  1929     12    9  49.000000   \n",
       "6            34970        99999  1929      8   16  61.000000   \n",
       "7            37950        99999  1929     11   17  39.000000   \n",
       "8            37950        99999  1929      8    6  57.000000   \n",
       "9            39800        99999  1929     11    1  51.000000   \n",
       "10           33790        99999  1929      8   14  62.200001   \n",
       "11           31590        99999  1929     12   12  43.000000   \n",
       "12           33110        99999  1929     11   29  50.500000   \n",
       "13           33960        99999  1929     11   23  47.799999   \n",
       "14           37950        99999  1929      8    9  57.299999   \n",
       "15           31590        99999  1929     11   25  48.500000   \n",
       "16           33790        99999  1929      8    6  58.799999   \n",
       "17           37950        99999  1929      8    2  56.299999   \n",
       "18           34970        99999  1929     11   11  42.200001   \n",
       "19           34970        99999  1929     12    1  47.400002   \n",
       "\n",
       "    num_mean_temp_samples  mean_dew_point  num_mean_dew_point_samples  \\\n",
       "0                       4       35.000000                         4.0   \n",
       "1                       4             NaN                         NaN   \n",
       "2                       4       33.500000                         4.0   \n",
       "3                       4       53.299999                         4.0   \n",
       "4                       4       49.000000                         4.0   \n",
       "5                       4       40.500000                         4.0   \n",
       "6                       4       54.700001                         4.0   \n",
       "7                       4       34.700001                         4.0   \n",
       "8                       4       55.299999                         4.0   \n",
       "9                       4       49.799999                         4.0   \n",
       "10                      4       52.799999                         4.0   \n",
       "11                      4       37.500000                         4.0   \n",
       "12                      4       48.700001                         4.0   \n",
       "13                      4       45.799999                         4.0   \n",
       "14                      4       50.700001                         4.0   \n",
       "15                      4       44.200001                         4.0   \n",
       "16                      4       55.799999                         4.0   \n",
       "17                      4       49.500000                         4.0   \n",
       "18                      5       40.500000                         4.0   \n",
       "19                      5       45.700001                         4.0   \n",
       "\n",
       "    mean_sealevel_pressure  ...  min_temperature  min_temperature_explicit  \\\n",
       "0               990.500000  ...              NaN                      None   \n",
       "1                      NaN  ...              NaN                      None   \n",
       "2               999.299988  ...              NaN                      None   \n",
       "3              1025.599976  ...              NaN                      None   \n",
       "4              1028.000000  ...              NaN                      None   \n",
       "5               998.900024  ...              NaN                      None   \n",
       "6              1015.000000  ...              NaN                      None   \n",
       "7              1005.099976  ...              NaN                      None   \n",
       "8              1010.299988  ...              NaN                      None   \n",
       "9              1023.799988  ...              NaN                      None   \n",
       "10             1018.099976  ...              NaN                      None   \n",
       "11              996.799988  ...              NaN                      None   \n",
       "12              995.799988  ...              NaN                      None   \n",
       "13              992.299988  ...              NaN                      None   \n",
       "14             1017.400024  ...              NaN                      None   \n",
       "15              988.400024  ...              NaN                      None   \n",
       "16             1004.900024  ...              NaN                      None   \n",
       "17             1013.099976  ...              NaN                      None   \n",
       "18             1009.299988  ...              NaN                      None   \n",
       "19              993.099976  ...              NaN                      None   \n",
       "\n",
       "    total_precipitation  snow_depth    fog   rain   snow   hail  thunder  \\\n",
       "0                  0.00         NaN  False  False  False  False    False   \n",
       "1                  0.08         NaN  False  False  False  False    False   \n",
       "2                  0.00         NaN  False  False  False  False    False   \n",
       "3                   NaN         NaN  False  False  False  False    False   \n",
       "4                  0.00         NaN  False  False  False  False    False   \n",
       "5                   NaN         NaN  False  False  False  False    False   \n",
       "6                  0.00         NaN  False  False  False  False    False   \n",
       "7                  0.00         NaN  False  False  False  False    False   \n",
       "8                   NaN         NaN  False  False  False  False    False   \n",
       "9                   NaN         NaN  False  False  False  False    False   \n",
       "10                 0.00         NaN  False  False  False  False    False   \n",
       "11                  NaN         NaN  False  False  False  False    False   \n",
       "12                  NaN         NaN  False  False  False  False    False   \n",
       "13                 0.00         NaN  False  False  False  False    False   \n",
       "14                 0.00         NaN  False  False  False  False    False   \n",
       "15                  NaN         NaN  False  False  False  False    False   \n",
       "16                  NaN         NaN  False  False  False  False    False   \n",
       "17                 0.00         NaN  False  False  False  False    False   \n",
       "18                  NaN         NaN  False  False  False  False    False   \n",
       "19                 0.00         NaN   True   True   True   True     True   \n",
       "\n",
       "    tornado  \n",
       "0     False  \n",
       "1     False  \n",
       "2     False  \n",
       "3     False  \n",
       "4     False  \n",
       "5     False  \n",
       "6     False  \n",
       "7     False  \n",
       "8     False  \n",
       "9     False  \n",
       "10    False  \n",
       "11    False  \n",
       "12    False  \n",
       "13    False  \n",
       "14    False  \n",
       "15    False  \n",
       "16    False  \n",
       "17    False  \n",
       "18    False  \n",
       "19     True  \n",
       "\n",
       "[20 rows x 31 columns]"
      ]
     },
     "execution_count": 2,
     "metadata": {},
     "output_type": "execute_result"
    }
   ],
   "source": [
    "%%bigquery \n",
    "SELECT\n",
    "*,\n",
    "FROM `bigquery-public-data.samples.gsod`\n",
    "LIMIT 20 \n"
   ]
  },
  {
   "cell_type": "markdown",
   "metadata": {},
   "source": [
    "## Part 1"
   ]
  },
  {
   "cell_type": "markdown",
   "metadata": {},
   "source": [
    "### 1. Task\n",
    "Change the date format to 'YYYY-MM-DD' and select the data from 2005 till 2009 for station numbers including and between 725300 and 726300 , and save it as a pandas dataframe. Note the maximum year available is 2010. "
   ]
  },
  {
   "cell_type": "code",
   "execution_count": 3,
   "metadata": {
    "scrolled": true
   },
   "outputs": [
    {
     "name": "stderr",
     "output_type": "stream",
     "text": [
      "Query complete after 0.00s: 100%|██████████| 1/1 [00:00<00:00, 433.83query/s] \n",
      "Downloading: 100%|██████████| 377784/377784 [00:09<00:00, 41860.05rows/s] \n"
     ]
    }
   ],
   "source": [
    "%%bigquery  df\n",
    "SELECT \n",
    "#format the date to get \"YYYY-MM-DD\"\n",
    "CAST(CAST((year*10000+month*100+day) AS string) AS date FORMAT \"YYYYMMDD\") as observed_date,\n",
    "#since we have used the variables \"year, \"month\" and \"day\", we need to filter them away\n",
    "* EXCEPT(year, month, day)\n",
    "FROM `bigquery-public-data.samples.gsod`\n",
    "#filter according to conditions\n",
    "WHERE \n",
    "year BETWEEN 2005 AND 2009\n",
    "AND\n",
    "station_number BETWEEN 725300 AND 726300 \n"
   ]
  },
  {
   "cell_type": "markdown",
   "metadata": {},
   "source": [
    "### Alternative\n",
    "Another option to get the formatted date is the following: \"FORMAT_DATETIME(\"%Y-%m-%d\" , DATETIME(year, month, day,0,0,0)) as observed_date\".\n",
    "The advantage of this approach is that it has only one transformation.\n",
    "The disadvantage is that the output of this function is going to be a STRING. Since we are dealing with dates, it is better to keep the output as a date"
   ]
  },
  {
   "cell_type": "markdown",
   "metadata": {},
   "source": [
    "### 2. Task \n",
    "From here you want to work with the data from all stations 725300 to 725330 that have information from 2005 till 2009. "
   ]
  },
  {
   "cell_type": "code",
   "execution_count": 4,
   "metadata": {},
   "outputs": [
    {
     "data": {
      "text/plain": [
       "array([725314, 725317, 725327, 725326, 725305, 725315, 725316, 725300,\n",
       "       725320, 725330])"
      ]
     },
     "execution_count": 4,
     "metadata": {},
     "output_type": "execute_result"
    }
   ],
   "source": [
    "#we want to filter all stations larger then 725330 \n",
    "df = df.loc[df[\"station_number\"]<=725330]\n",
    "df[\"station_number\"].unique()"
   ]
  },
  {
   "cell_type": "markdown",
   "metadata": {},
   "source": [
    "I assume that we want to filter the stations that have information in the time range from 2005 and 2009\n",
    "Thus, we want to filter out the stations that have min(observed_date)>2005 and max(observed_date)<2009b"
   ]
  },
  {
   "cell_type": "code",
   "execution_count": 5,
   "metadata": {},
   "outputs": [
    {
     "data": {
      "text/plain": [
       "station_number\n",
       "725300    True\n",
       "725305    True\n",
       "725314    True\n",
       "725315    True\n",
       "725316    True\n",
       "725317    True\n",
       "725320    True\n",
       "725326    True\n",
       "725327    True\n",
       "725330    True\n",
       "dtype: bool"
      ]
     },
     "execution_count": 5,
     "metadata": {},
     "output_type": "execute_result"
    }
   ],
   "source": [
    "df[\"approved timerange\"] = False\n",
    "df.groupby(by = \"station_number\").apply(lambda x: \n",
    "                                    False  if (min(x[\"observed_date\"]).year>2005 or \n",
    "                                    max(x[\"observed_date\"]).year<2009)\n",
    "                                    else True)"
   ]
  },
  {
   "cell_type": "code",
   "execution_count": 6,
   "metadata": {},
   "outputs": [
    {
     "data": {
      "text/plain": [
       "station_number\n",
       "725300    1822\n",
       "725305    1824\n",
       "725314    1800\n",
       "725315    1824\n",
       "725316    1824\n",
       "725317    1822\n",
       "725320    1824\n",
       "725326    1785\n",
       "725327    1781\n",
       "725330    1823\n",
       "Name: station_number, dtype: int64"
      ]
     },
     "execution_count": 6,
     "metadata": {},
     "output_type": "execute_result"
    }
   ],
   "source": [
    "#we see that each station has similar number of observations\n",
    "df.groupby(by = \"station_number\")[\"station_number\"].count()"
   ]
  },
  {
   "cell_type": "code",
   "execution_count": 7,
   "metadata": {},
   "outputs": [
    {
     "name": "stdout",
     "output_type": "stream",
     "text": [
      "station number is  725314\n",
      "year\n",
      "2005    350\n",
      "2006    357\n",
      "2007    364\n",
      "2008    364\n",
      "2009    365\n",
      "Name: year, dtype: int64\n",
      "station number is  725317\n",
      "year\n",
      "2005    364\n",
      "2006    365\n",
      "2007    364\n",
      "2008    364\n",
      "2009    365\n",
      "Name: year, dtype: int64\n",
      "station number is  725327\n",
      "year\n",
      "2005    358\n",
      "2006    333\n",
      "2007    364\n",
      "2008    363\n",
      "2009    363\n",
      "Name: year, dtype: int64\n",
      "station number is  725326\n",
      "year\n",
      "2005    365\n",
      "2006    359\n",
      "2007    364\n",
      "2008    361\n",
      "2009    336\n",
      "Name: year, dtype: int64\n",
      "station number is  725305\n",
      "year\n",
      "2005    365\n",
      "2006    365\n",
      "2007    364\n",
      "2008    365\n",
      "2009    365\n",
      "Name: year, dtype: int64\n",
      "station number is  725315\n",
      "year\n",
      "2005    365\n",
      "2006    365\n",
      "2007    364\n",
      "2008    365\n",
      "2009    365\n",
      "Name: year, dtype: int64\n",
      "station number is  725316\n",
      "year\n",
      "2005    365\n",
      "2006    365\n",
      "2007    364\n",
      "2008    365\n",
      "2009    365\n",
      "Name: year, dtype: int64\n",
      "station number is  725300\n",
      "year\n",
      "2005    365\n",
      "2006    365\n",
      "2007    363\n",
      "2008    364\n",
      "2009    365\n",
      "Name: year, dtype: int64\n",
      "station number is  725320\n",
      "year\n",
      "2005    365\n",
      "2006    365\n",
      "2007    364\n",
      "2008    365\n",
      "2009    365\n",
      "Name: year, dtype: int64\n",
      "station number is  725330\n",
      "year\n",
      "2005    365\n",
      "2006    365\n",
      "2007    364\n",
      "2008    364\n",
      "2009    365\n",
      "Name: year, dtype: int64\n"
     ]
    }
   ],
   "source": [
    "df[\"year\"] = df[\"observed_date\"].apply(lambda x: x.year)\n",
    "for station in df[\"station_number\"].unique():\n",
    "    print(\"station number is \", station)\n",
    "    print(df[df[\"station_number\"] == station].groupby(by = \"year\")[\"year\"].count())\n",
    "df = df.drop(\"year\", axis =1);"
   ]
  },
  {
   "cell_type": "code",
   "execution_count": 8,
   "metadata": {},
   "outputs": [
    {
     "data": {
      "image/png": "[encoded data removed]",
      "text/plain": [
       "<Figure size 1440x720 with 1 Axes>"
      ]
     },
     "metadata": {
      "needs_background": "light"
     },
     "output_type": "display_data"
    }
   ],
   "source": [
    "#Let's visualize the distribution of the years\n",
    "check_dist = df.groupby(by = [\"observed_date\",\"station_number\"]).apply(lambda x: \n",
    "                                                          f\"{min(x['observed_date']).year} - {x['station_number'].min()} \")\n",
    "check_dist.hist(bins = len(check_dist.unique()),figsize = (20,10), xrot =90);"
   ]
  },
  {
   "cell_type": "markdown",
   "metadata": {},
   "source": [
    "We see that all stations have data from 2005 till 2009."
   ]
  },
  {
   "cell_type": "markdown",
   "metadata": {},
   "source": [
    "Do a first analysis of the remaining dataset, clean or drop data depending on how you see appropriate. "
   ]
  },
  {
   "cell_type": "code",
   "execution_count": 9,
   "metadata": {},
   "outputs": [
    {
     "name": "stdout",
     "output_type": "stream",
     "text": [
      "<class 'pandas.core.frame.DataFrame'>\n",
      "Int64Index: 18129 entries, 60 to 377762\n",
      "Data columns (total 30 columns):\n",
      " #   Column                              Non-Null Count  Dtype  \n",
      "---  ------                              --------------  -----  \n",
      " 0   observed_date                       18129 non-null  object \n",
      " 1   station_number                      18129 non-null  int64  \n",
      " 2   wban_number                         18129 non-null  int64  \n",
      " 3   mean_temp                           18129 non-null  float64\n",
      " 4   num_mean_temp_samples               18129 non-null  int64  \n",
      " 5   mean_dew_point                      18127 non-null  float64\n",
      " 6   num_mean_dew_point_samples          18127 non-null  float64\n",
      " 7   mean_sealevel_pressure              16291 non-null  float64\n",
      " 8   num_mean_sealevel_pressure_samples  16291 non-null  float64\n",
      " 9   mean_station_pressure               993 non-null    float64\n",
      " 10  num_mean_station_pressure_samples   993 non-null    float64\n",
      " 11  mean_visibility                     18126 non-null  float64\n",
      " 12  num_mean_visibility_samples         18126 non-null  float64\n",
      " 13  mean_wind_speed                     18124 non-null  float64\n",
      " 14  num_mean_wind_speed_samples         18124 non-null  float64\n",
      " 15  max_sustained_wind_speed            18119 non-null  float64\n",
      " 16  max_gust_wind_speed                 11468 non-null  float64\n",
      " 17  max_temperature                     18127 non-null  float64\n",
      " 18  max_temperature_explicit            18127 non-null  object \n",
      " 19  min_temperature                     0 non-null      float64\n",
      " 20  min_temperature_explicit            0 non-null      object \n",
      " 21  total_precipitation                 17938 non-null  float64\n",
      " 22  snow_depth                          565 non-null    float64\n",
      " 23  fog                                 18129 non-null  bool   \n",
      " 24  rain                                18129 non-null  bool   \n",
      " 25  snow                                18129 non-null  bool   \n",
      " 26  hail                                18129 non-null  bool   \n",
      " 27  thunder                             18129 non-null  bool   \n",
      " 28  tornado                             18129 non-null  bool   \n",
      " 29  approved timerange                  18129 non-null  bool   \n",
      "dtypes: bool(7), float64(17), int64(3), object(3)\n",
      "memory usage: 3.4+ MB\n"
     ]
    }
   ],
   "source": [
    "#Let's first depict the general information about DataFrame\n",
    "#We notice that there are some objects. We assume to have nans there. \n",
    "df.info()"
   ]
  },
  {
   "cell_type": "markdown",
   "metadata": {},
   "source": [
    "Let's read the namme of the columns try to get rid of ids and those columns which seem not to be relavent\n",
    "The first what i asked looking at the names of the columns is \"wban_number\". According to the following article (https://towardsdatascience.com/interactive-weather-data-visualizations-with-plotly-d304fe87b57f),\"the important piece to remember is that the WMO and WBAN numbers create a unique station ID \". Consequently, we could drop this column. "
   ]
  },
  {
   "cell_type": "code",
   "execution_count": 10,
   "metadata": {
    "scrolled": true
   },
   "outputs": [],
   "source": [
    "df = df.drop(\"wban_number\", axis =1)"
   ]
  },
  {
   "cell_type": "markdown",
   "metadata": {},
   "source": [
    "## Let's check for nans"
   ]
  },
  {
   "cell_type": "code",
   "execution_count": 11,
   "metadata": {},
   "outputs": [
    {
     "name": "stdout",
     "output_type": "stream",
     "text": [
      "the column mean_dew_point has 2 nans\n",
      "the column consists of 0.011032048099729715% of nans. \n",
      "\n",
      "the column num_mean_dew_point_samples has 2 nans\n",
      "the column consists of 0.011032048099729715% of nans. \n",
      "\n",
      "the column mean_sealevel_pressure has 1838 nans\n",
      "the column consists of 10.138452203651608% of nans. \n",
      "\n",
      "the column num_mean_sealevel_pressure_samples has 1838 nans\n",
      "the column consists of 10.138452203651608% of nans. \n",
      "\n",
      "the column mean_station_pressure has 17136 nans\n",
      "the column consists of 94.5225881184842% of nans. \n",
      "\n",
      "the column num_mean_station_pressure_samples has 17136 nans\n",
      "the column consists of 94.5225881184842% of nans. \n",
      "\n",
      "the column mean_visibility has 3 nans\n",
      "the column consists of 0.016548072149594573% of nans. \n",
      "\n",
      "the column num_mean_visibility_samples has 3 nans\n",
      "the column consists of 0.016548072149594573% of nans. \n",
      "\n",
      "the column mean_wind_speed has 5 nans\n",
      "the column consists of 0.027580120249324287% of nans. \n",
      "\n",
      "the column num_mean_wind_speed_samples has 5 nans\n",
      "the column consists of 0.027580120249324287% of nans. \n",
      "\n",
      "the column max_sustained_wind_speed has 10 nans\n",
      "the column consists of 0.05516024049864857% of nans. \n",
      "\n",
      "the column max_gust_wind_speed has 6661 nans\n",
      "the column consists of 36.74223619614982% of nans. \n",
      "\n",
      "the column max_temperature has 2 nans\n",
      "the column consists of 0.011032048099729715% of nans. \n",
      "\n",
      "the column max_temperature_explicit has 2 nans\n",
      "the column consists of 0.011032048099729715% of nans. \n",
      "\n",
      "the column min_temperature has 18129 nans\n",
      "the column consists of 100.0% of nans. \n",
      "\n",
      "the column min_temperature_explicit has 18129 nans\n",
      "the column consists of 100.0% of nans. \n",
      "\n",
      "the column total_precipitation has 191 nans\n",
      "the column consists of 1.0535605935241878% of nans. \n",
      "\n",
      "the column snow_depth has 17564 nans\n",
      "the column consists of 96.88344641182636% of nans. \n",
      "\n"
     ]
    }
   ],
   "source": [
    "scaling_var = 100/len(df)\n",
    "for column in df.columns:\n",
    "    if df[column].isna().values.any():\n",
    "        print(f\"the column {column} has {df[column].isnull().sum()} nans\")\n",
    "        print(f\"the column consists of {df[column].isnull().sum()*scaling_var}% of nans. \\n\")"
   ]
  },
  {
   "cell_type": "markdown",
   "metadata": {},
   "source": [
    "### Remarks\n",
    "We see that the columns \"snow_depth\", \"min_temperature_explicit\", \"min_temperature\", \"num_mean_station_pressure_samples\", \"mean_station_pressure\" consist mostly from nans. We can drop these columns\n",
    "\n",
    "We also notice that the columns \"total_precipitation\", \"max_temperature_explicit\", \"max_temperature\", \"max_sustained_wind_speed\", \"num_mean_wind_speed_samples\", \"mean_wind_speed\", \"num_mean_visibility_samples\", \"mean_visibility\", \"num_mean_dew_point_samples\", \"mean_dew_point\" have few nans. Thus, we could drop the rows which has nans "
   ]
  },
  {
   "cell_type": "code",
   "execution_count": 12,
   "metadata": {},
   "outputs": [],
   "source": [
    "#drop columns\n",
    "df.drop([\"snow_depth\", \"min_temperature_explicit\", \n",
    "         \"min_temperature\", \"num_mean_station_pressure_samples\", \"mean_station_pressure\"], \n",
    "        axis=1, inplace = True)"
   ]
  },
  {
   "cell_type": "code",
   "execution_count": 13,
   "metadata": {},
   "outputs": [],
   "source": [
    "#drop rows\n",
    "collumns_list = [\"total_precipitation\", \"max_temperature_explicit\", \"max_temperature\", \n",
    "                 \"max_sustained_wind_speed\", \"num_mean_wind_speed_samples\", \"mean_wind_speed\", \n",
    "                 \"num_mean_visibility_samples\", \"mean_visibility\", \"num_mean_dew_point_samples\", \n",
    "                 \"mean_dew_point\"]\n",
    "#find the rows where there is no nans of netioned columns\n",
    "df = df.loc[~df[collumns_list].isna().any(axis=1)]"
   ]
  },
  {
   "cell_type": "markdown",
   "metadata": {},
   "source": [
    "We want to make sure that deleting the duplicates did not affect a specific year of a station. Let's plot the distribution of the point per year and station again:"
   ]
  },
  {
   "cell_type": "code",
   "execution_count": 14,
   "metadata": {},
   "outputs": [
    {
     "data": {
      "image/png": "[encoded data removed]",
      "text/plain": [
       "<Figure size 1440x720 with 1 Axes>"
      ]
     },
     "metadata": {
      "needs_background": "light"
     },
     "output_type": "display_data"
    }
   ],
   "source": [
    "#Let's visualize the distribution of the years\n",
    "check_dist = df.groupby(by = [\"observed_date\",\"station_number\"]).apply(lambda x: \n",
    "                                                          f\"{min(x['observed_date']).year} - {x['station_number'].min()} \")\n",
    "check_dist.hist(bins = len(check_dist.unique()),figsize = (20,10), xrot =90);"
   ]
  },
  {
   "cell_type": "markdown",
   "metadata": {},
   "source": [
    "We see that every station has approximately the same number of points"
   ]
  },
  {
   "cell_type": "markdown",
   "metadata": {},
   "source": [
    "### Remark\n",
    "We have only three columns left with nans. To find what we should do with them, we need to proceed some analysis. The columns are: \"mean_sealevel_pressure\", \"num_mean_sealevel_pressure_samples\", \"max_gust_wind_speed\" ."
   ]
  },
  {
   "cell_type": "markdown",
   "metadata": {},
   "source": [
    "For this we will plot histogram of the not nan values and check how different the means depending on the \"station_number\""
   ]
  },
  {
   "cell_type": "code",
   "execution_count": 15,
   "metadata": {},
   "outputs": [
    {
     "data": {
      "image/png": "[encoded data removed]",
      "text/plain": [
       "<Figure size 432x288 with 1 Axes>"
      ]
     },
     "metadata": {
      "needs_background": "light"
     },
     "output_type": "display_data"
    }
   ],
   "source": [
    "df[\"mean_sealevel_pressure\"].loc[~df.isna().any(axis=1)].hist();"
   ]
  },
  {
   "cell_type": "code",
   "execution_count": 16,
   "metadata": {},
   "outputs": [
    {
     "data": {
      "text/plain": [
       "station_number\n",
       "725300    1015.524541\n",
       "725305    1014.927239\n",
       "725314    1015.619844\n",
       "725315    1015.521911\n",
       "725316    1015.878863\n",
       "725317    1015.776676\n",
       "725320    1015.614186\n",
       "725327    1015.644777\n",
       "725330    1015.561169\n",
       "Name: mean_sealevel_pressure, dtype: float64"
      ]
     },
     "execution_count": 16,
     "metadata": {},
     "output_type": "execute_result"
    }
   ],
   "source": [
    "df.loc[~df.isna().any(axis=1)].groupby(by = \"station_number\")[\"mean_sealevel_pressure\"].mean()"
   ]
  },
  {
   "cell_type": "code",
   "execution_count": 18,
   "metadata": {},
   "outputs": [
    {
     "data": {
      "image/png": "[encoded data removed]",
      "text/plain": [
       "<Figure size 432x288 with 1 Axes>"
      ]
     },
     "metadata": {
      "needs_background": "light"
     },
     "output_type": "display_data"
    }
   ],
   "source": [
    "df[\"num_mean_sealevel_pressure_samples\"].loc[~df.isna().any(axis=1)].hist();"
   ]
  },
  {
   "cell_type": "code",
   "execution_count": 19,
   "metadata": {},
   "outputs": [
    {
     "data": {
      "text/plain": [
       "station_number\n",
       "725300    22.678913\n",
       "725305    21.180073\n",
       "725314    21.682274\n",
       "725315    21.145176\n",
       "725316    21.468917\n",
       "725317    20.910357\n",
       "725320    21.957354\n",
       "725327    20.413521\n",
       "725330    22.075743\n",
       "Name: num_mean_sealevel_pressure_samples, dtype: float64"
      ]
     },
     "execution_count": 19,
     "metadata": {},
     "output_type": "execute_result"
    }
   ],
   "source": [
    "df.loc[~df.isna().any(axis=1)].groupby(by = \"station_number\")[\"num_mean_sealevel_pressure_samples\"].mean()"
   ]
  },
  {
   "cell_type": "code",
   "execution_count": 20,
   "metadata": {},
   "outputs": [
    {
     "data": {
      "image/png": "[encoded data removed]",
      "text/plain": [
       "<Figure size 432x288 with 1 Axes>"
      ]
     },
     "metadata": {
      "needs_background": "light"
     },
     "output_type": "display_data"
    }
   ],
   "source": [
    "df[\"max_gust_wind_speed\"].loc[~df.isna().any(axis=1)].hist();"
   ]
  },
  {
   "cell_type": "code",
   "execution_count": 21,
   "metadata": {},
   "outputs": [
    {
     "data": {
      "text/plain": [
       "station_number\n",
       "725300    22.867230\n",
       "725305    23.368099\n",
       "725314    21.948606\n",
       "725315    24.757710\n",
       "725316    24.223268\n",
       "725317    23.457267\n",
       "725320    22.322802\n",
       "725327    22.886479\n",
       "725330    23.952924\n",
       "Name: max_gust_wind_speed, dtype: float64"
      ]
     },
     "execution_count": 21,
     "metadata": {},
     "output_type": "execute_result"
    }
   ],
   "source": [
    "df.loc[~df.isna().any(axis=1)].groupby(by = \"station_number\")[\"max_gust_wind_speed\"].mean()"
   ]
  },
  {
   "cell_type": "markdown",
   "metadata": {},
   "source": [
    "The difference between means is not significant. We see that the distribution of the values for columns \"max_gust_wind_speed\" and \"num_mean_sealevel_pressure_samples\" are scewed. Consequently, we should choose to replace nans with mmedian values. \n",
    "Values of the column \"mean_sealevel_pressure\" are more equally distributed. Thus, mean value is one of the best choices."
   ]
  },
  {
   "cell_type": "code",
   "execution_count": 22,
   "metadata": {},
   "outputs": [],
   "source": [
    "mean_val = df[\"mean_sealevel_pressure\"].mean()\n",
    "df[\"mean_sealevel_pressure\"].fillna(mean_val, inplace=True)\n",
    "\n",
    "median_val = df[\"num_mean_sealevel_pressure_samples\"].median()\n",
    "df[\"num_mean_sealevel_pressure_samples\"].fillna(median_val, inplace=True)\n",
    "\n",
    "median_val = df[\"max_gust_wind_speed\"].median()\n",
    "df[\"max_gust_wind_speed\"].fillna(median_val, inplace=True)"
   ]
  },
  {
   "cell_type": "markdown",
   "metadata": {},
   "source": [
    "### Let's have a look at the DataFrame after preprocessing"
   ]
  },
  {
   "cell_type": "code",
   "execution_count": 23,
   "metadata": {},
   "outputs": [
    {
     "name": "stdout",
     "output_type": "stream",
     "text": [
      "<class 'pandas.core.frame.DataFrame'>\n",
      "Int64Index: 17924 entries, 60 to 377762\n",
      "Data columns (total 24 columns):\n",
      " #   Column                              Non-Null Count  Dtype  \n",
      "---  ------                              --------------  -----  \n",
      " 0   observed_date                       17924 non-null  object \n",
      " 1   station_number                      17924 non-null  int64  \n",
      " 2   mean_temp                           17924 non-null  float64\n",
      " 3   num_mean_temp_samples               17924 non-null  int64  \n",
      " 4   mean_dew_point                      17924 non-null  float64\n",
      " 5   num_mean_dew_point_samples          17924 non-null  float64\n",
      " 6   mean_sealevel_pressure              17924 non-null  float64\n",
      " 7   num_mean_sealevel_pressure_samples  17924 non-null  float64\n",
      " 8   mean_visibility                     17924 non-null  float64\n",
      " 9   num_mean_visibility_samples         17924 non-null  float64\n",
      " 10  mean_wind_speed                     17924 non-null  float64\n",
      " 11  num_mean_wind_speed_samples         17924 non-null  float64\n",
      " 12  max_sustained_wind_speed            17924 non-null  float64\n",
      " 13  max_gust_wind_speed                 17924 non-null  float64\n",
      " 14  max_temperature                     17924 non-null  float64\n",
      " 15  max_temperature_explicit            17924 non-null  object \n",
      " 16  total_precipitation                 17924 non-null  float64\n",
      " 17  fog                                 17924 non-null  bool   \n",
      " 18  rain                                17924 non-null  bool   \n",
      " 19  snow                                17924 non-null  bool   \n",
      " 20  hail                                17924 non-null  bool   \n",
      " 21  thunder                             17924 non-null  bool   \n",
      " 22  tornado                             17924 non-null  bool   \n",
      " 23  approved timerange                  17924 non-null  bool   \n",
      "dtypes: bool(7), float64(13), int64(2), object(2)\n",
      "memory usage: 2.6+ MB\n"
     ]
    }
   ],
   "source": [
    "df.info()"
   ]
  },
  {
   "cell_type": "markdown",
   "metadata": {},
   "source": [
    "Since we got rid of nans, we could change the format of those columns which are still \"objects\""
   ]
  },
  {
   "cell_type": "code",
   "execution_count": 24,
   "metadata": {},
   "outputs": [
    {
     "data": {
      "text/plain": [
       "array([False, True], dtype=object)"
      ]
     },
     "execution_count": 24,
     "metadata": {},
     "output_type": "execute_result"
    }
   ],
   "source": [
    "#check if there isno mistake\n",
    "df[\"max_temperature_explicit\"].unique()"
   ]
  },
  {
   "cell_type": "code",
   "execution_count": 25,
   "metadata": {},
   "outputs": [],
   "source": [
    "df[\"max_temperature_explicit\"] = df[\"max_temperature_explicit\"].astype(bool)"
   ]
  },
  {
   "cell_type": "code",
   "execution_count": 26,
   "metadata": {},
   "outputs": [],
   "source": [
    "df[\"observed_date\"] = df[\"observed_date\"].astype('datetime64[D]')"
   ]
  },
  {
   "cell_type": "code",
   "execution_count": 27,
   "metadata": {},
   "outputs": [
    {
     "name": "stdout",
     "output_type": "stream",
     "text": [
      "<class 'pandas.core.frame.DataFrame'>\n",
      "Int64Index: 17924 entries, 60 to 377762\n",
      "Data columns (total 24 columns):\n",
      " #   Column                              Non-Null Count  Dtype         \n",
      "---  ------                              --------------  -----         \n",
      " 0   observed_date                       17924 non-null  datetime64[ns]\n",
      " 1   station_number                      17924 non-null  int64         \n",
      " 2   mean_temp                           17924 non-null  float64       \n",
      " 3   num_mean_temp_samples               17924 non-null  int64         \n",
      " 4   mean_dew_point                      17924 non-null  float64       \n",
      " 5   num_mean_dew_point_samples          17924 non-null  float64       \n",
      " 6   mean_sealevel_pressure              17924 non-null  float64       \n",
      " 7   num_mean_sealevel_pressure_samples  17924 non-null  float64       \n",
      " 8   mean_visibility                     17924 non-null  float64       \n",
      " 9   num_mean_visibility_samples         17924 non-null  float64       \n",
      " 10  mean_wind_speed                     17924 non-null  float64       \n",
      " 11  num_mean_wind_speed_samples         17924 non-null  float64       \n",
      " 12  max_sustained_wind_speed            17924 non-null  float64       \n",
      " 13  max_gust_wind_speed                 17924 non-null  float64       \n",
      " 14  max_temperature                     17924 non-null  float64       \n",
      " 15  max_temperature_explicit            17924 non-null  bool          \n",
      " 16  total_precipitation                 17924 non-null  float64       \n",
      " 17  fog                                 17924 non-null  bool          \n",
      " 18  rain                                17924 non-null  bool          \n",
      " 19  snow                                17924 non-null  bool          \n",
      " 20  hail                                17924 non-null  bool          \n",
      " 21  thunder                             17924 non-null  bool          \n",
      " 22  tornado                             17924 non-null  bool          \n",
      " 23  approved timerange                  17924 non-null  bool          \n",
      "dtypes: bool(8), datetime64[ns](1), float64(13), int64(2)\n",
      "memory usage: 2.5 MB\n"
     ]
    }
   ],
   "source": [
    "#we do not have objects anymore\n",
    "df.info()"
   ]
  },
  {
   "cell_type": "code",
   "execution_count": 28,
   "metadata": {},
   "outputs": [
    {
     "data": {
      "text/html": [
       "<div>\n",
       "<style scoped>\n",
       "    .dataframe tbody tr th:only-of-type {\n",
       "        vertical-align: middle;\n",
       "    }\n",
       "\n",
       "    .dataframe tbody tr th {\n",
       "        vertical-align: top;\n",
       "    }\n",
       "\n",
       "    .dataframe thead th {\n",
       "        text-align: right;\n",
       "    }\n",
       "</style>\n",
       "<table border=\"1\" class=\"dataframe\">\n",
       "  <thead>\n",
       "    <tr style=\"text-align: right;\">\n",
       "      <th></th>\n",
       "      <th>station_number</th>\n",
       "      <th>mean_temp</th>\n",
       "      <th>num_mean_temp_samples</th>\n",
       "      <th>mean_dew_point</th>\n",
       "      <th>num_mean_dew_point_samples</th>\n",
       "      <th>mean_sealevel_pressure</th>\n",
       "      <th>num_mean_sealevel_pressure_samples</th>\n",
       "      <th>mean_visibility</th>\n",
       "      <th>num_mean_visibility_samples</th>\n",
       "      <th>mean_wind_speed</th>\n",
       "      <th>...</th>\n",
       "      <th>max_temperature</th>\n",
       "      <th>max_temperature_explicit</th>\n",
       "      <th>total_precipitation</th>\n",
       "      <th>fog</th>\n",
       "      <th>rain</th>\n",
       "      <th>snow</th>\n",
       "      <th>hail</th>\n",
       "      <th>thunder</th>\n",
       "      <th>tornado</th>\n",
       "      <th>approved timerange</th>\n",
       "    </tr>\n",
       "  </thead>\n",
       "  <tbody>\n",
       "    <tr>\n",
       "      <th>station_number</th>\n",
       "      <td>1.000000</td>\n",
       "      <td>-0.016291</td>\n",
       "      <td>-0.035910</td>\n",
       "      <td>0.000254</td>\n",
       "      <td>-0.033034</td>\n",
       "      <td>0.032332</td>\n",
       "      <td>-0.010590</td>\n",
       "      <td>-0.010873</td>\n",
       "      <td>-0.037577</td>\n",
       "      <td>-0.080478</td>\n",
       "      <td>...</td>\n",
       "      <td>-0.019380</td>\n",
       "      <td>0.029943</td>\n",
       "      <td>-0.019505</td>\n",
       "      <td>0.011234</td>\n",
       "      <td>0.011234</td>\n",
       "      <td>0.011234</td>\n",
       "      <td>0.011234</td>\n",
       "      <td>0.011234</td>\n",
       "      <td>0.011234</td>\n",
       "      <td>NaN</td>\n",
       "    </tr>\n",
       "    <tr>\n",
       "      <th>mean_temp</th>\n",
       "      <td>-0.016291</td>\n",
       "      <td>1.000000</td>\n",
       "      <td>-0.006746</td>\n",
       "      <td>0.965052</td>\n",
       "      <td>-0.005059</td>\n",
       "      <td>-0.345626</td>\n",
       "      <td>0.114308</td>\n",
       "      <td>0.113425</td>\n",
       "      <td>-0.007371</td>\n",
       "      <td>-0.300619</td>\n",
       "      <td>...</td>\n",
       "      <td>0.975254</td>\n",
       "      <td>-0.076854</td>\n",
       "      <td>0.078553</td>\n",
       "      <td>-0.092112</td>\n",
       "      <td>-0.092112</td>\n",
       "      <td>-0.092112</td>\n",
       "      <td>-0.092112</td>\n",
       "      <td>-0.092112</td>\n",
       "      <td>-0.092112</td>\n",
       "      <td>NaN</td>\n",
       "    </tr>\n",
       "    <tr>\n",
       "      <th>num_mean_temp_samples</th>\n",
       "      <td>-0.035910</td>\n",
       "      <td>-0.006746</td>\n",
       "      <td>1.000000</td>\n",
       "      <td>0.005631</td>\n",
       "      <td>0.974355</td>\n",
       "      <td>-0.021706</td>\n",
       "      <td>0.322041</td>\n",
       "      <td>-0.027116</td>\n",
       "      <td>0.993134</td>\n",
       "      <td>-0.005736</td>\n",
       "      <td>...</td>\n",
       "      <td>-0.024292</td>\n",
       "      <td>-0.098322</td>\n",
       "      <td>0.034663</td>\n",
       "      <td>0.037009</td>\n",
       "      <td>0.037009</td>\n",
       "      <td>0.037009</td>\n",
       "      <td>0.037009</td>\n",
       "      <td>0.037009</td>\n",
       "      <td>0.037009</td>\n",
       "      <td>NaN</td>\n",
       "    </tr>\n",
       "    <tr>\n",
       "      <th>mean_dew_point</th>\n",
       "      <td>0.000254</td>\n",
       "      <td>0.965052</td>\n",
       "      <td>0.005631</td>\n",
       "      <td>1.000000</td>\n",
       "      <td>0.004793</td>\n",
       "      <td>-0.397490</td>\n",
       "      <td>-0.011751</td>\n",
       "      <td>-0.050519</td>\n",
       "      <td>0.004657</td>\n",
       "      <td>-0.289760</td>\n",
       "      <td>...</td>\n",
       "      <td>0.970865</td>\n",
       "      <td>-0.061403</td>\n",
       "      <td>0.156153</td>\n",
       "      <td>-0.016970</td>\n",
       "      <td>-0.016970</td>\n",
       "      <td>-0.016970</td>\n",
       "      <td>-0.016970</td>\n",
       "      <td>-0.016970</td>\n",
       "      <td>-0.016970</td>\n",
       "      <td>NaN</td>\n",
       "    </tr>\n",
       "    <tr>\n",
       "      <th>num_mean_dew_point_samples</th>\n",
       "      <td>-0.033034</td>\n",
       "      <td>-0.005059</td>\n",
       "      <td>0.974355</td>\n",
       "      <td>0.004793</td>\n",
       "      <td>1.000000</td>\n",
       "      <td>-0.012089</td>\n",
       "      <td>0.323541</td>\n",
       "      <td>-0.021850</td>\n",
       "      <td>0.969692</td>\n",
       "      <td>-0.014157</td>\n",
       "      <td>...</td>\n",
       "      <td>-0.022693</td>\n",
       "      <td>-0.097408</td>\n",
       "      <td>0.025142</td>\n",
       "      <td>0.033976</td>\n",
       "      <td>0.033976</td>\n",
       "      <td>0.033976</td>\n",
       "      <td>0.033976</td>\n",
       "      <td>0.033976</td>\n",
       "      <td>0.033976</td>\n",
       "      <td>NaN</td>\n",
       "    </tr>\n",
       "    <tr>\n",
       "      <th>mean_sealevel_pressure</th>\n",
       "      <td>0.032332</td>\n",
       "      <td>-0.345626</td>\n",
       "      <td>-0.021706</td>\n",
       "      <td>-0.397490</td>\n",
       "      <td>-0.012089</td>\n",
       "      <td>1.000000</td>\n",
       "      <td>0.205893</td>\n",
       "      <td>0.166402</td>\n",
       "      <td>-0.021408</td>\n",
       "      <td>-0.251963</td>\n",
       "      <td>...</td>\n",
       "      <td>-0.376592</td>\n",
       "      <td>0.005931</td>\n",
       "      <td>-0.222174</td>\n",
       "      <td>-0.059449</td>\n",
       "      <td>-0.059449</td>\n",
       "      <td>-0.059449</td>\n",
       "      <td>-0.059449</td>\n",
       "      <td>-0.059449</td>\n",
       "      <td>-0.059449</td>\n",
       "      <td>NaN</td>\n",
       "    </tr>\n",
       "    <tr>\n",
       "      <th>num_mean_sealevel_pressure_samples</th>\n",
       "      <td>-0.010590</td>\n",
       "      <td>0.114308</td>\n",
       "      <td>0.322041</td>\n",
       "      <td>-0.011751</td>\n",
       "      <td>0.323541</td>\n",
       "      <td>0.205893</td>\n",
       "      <td>1.000000</td>\n",
       "      <td>0.560192</td>\n",
       "      <td>0.320134</td>\n",
       "      <td>-0.171243</td>\n",
       "      <td>...</td>\n",
       "      <td>0.041314</td>\n",
       "      <td>-0.111805</td>\n",
       "      <td>-0.303445</td>\n",
       "      <td>-0.325351</td>\n",
       "      <td>-0.325351</td>\n",
       "      <td>-0.325351</td>\n",
       "      <td>-0.325351</td>\n",
       "      <td>-0.325351</td>\n",
       "      <td>-0.325351</td>\n",
       "      <td>NaN</td>\n",
       "    </tr>\n",
       "    <tr>\n",
       "      <th>mean_visibility</th>\n",
       "      <td>-0.010873</td>\n",
       "      <td>0.113425</td>\n",
       "      <td>-0.027116</td>\n",
       "      <td>-0.050519</td>\n",
       "      <td>-0.021850</td>\n",
       "      <td>0.166402</td>\n",
       "      <td>0.560192</td>\n",
       "      <td>1.000000</td>\n",
       "      <td>-0.027867</td>\n",
       "      <td>-0.008293</td>\n",
       "      <td>...</td>\n",
       "      <td>0.051746</td>\n",
       "      <td>-0.058308</td>\n",
       "      <td>-0.218761</td>\n",
       "      <td>-0.460573</td>\n",
       "      <td>-0.460573</td>\n",
       "      <td>-0.460573</td>\n",
       "      <td>-0.460573</td>\n",
       "      <td>-0.460573</td>\n",
       "      <td>-0.460573</td>\n",
       "      <td>NaN</td>\n",
       "    </tr>\n",
       "    <tr>\n",
       "      <th>num_mean_visibility_samples</th>\n",
       "      <td>-0.037577</td>\n",
       "      <td>-0.007371</td>\n",
       "      <td>0.993134</td>\n",
       "      <td>0.004657</td>\n",
       "      <td>0.969692</td>\n",
       "      <td>-0.021408</td>\n",
       "      <td>0.320134</td>\n",
       "      <td>-0.027867</td>\n",
       "      <td>1.000000</td>\n",
       "      <td>-0.004715</td>\n",
       "      <td>...</td>\n",
       "      <td>-0.024744</td>\n",
       "      <td>-0.099098</td>\n",
       "      <td>0.033448</td>\n",
       "      <td>0.038359</td>\n",
       "      <td>0.038359</td>\n",
       "      <td>0.038359</td>\n",
       "      <td>0.038359</td>\n",
       "      <td>0.038359</td>\n",
       "      <td>0.038359</td>\n",
       "      <td>NaN</td>\n",
       "    </tr>\n",
       "    <tr>\n",
       "      <th>mean_wind_speed</th>\n",
       "      <td>-0.080478</td>\n",
       "      <td>-0.300619</td>\n",
       "      <td>-0.005736</td>\n",
       "      <td>-0.289760</td>\n",
       "      <td>-0.014157</td>\n",
       "      <td>-0.251963</td>\n",
       "      <td>-0.171243</td>\n",
       "      <td>-0.008293</td>\n",
       "      <td>-0.004715</td>\n",
       "      <td>1.000000</td>\n",
       "      <td>...</td>\n",
       "      <td>-0.253157</td>\n",
       "      <td>0.059564</td>\n",
       "      <td>0.154150</td>\n",
       "      <td>0.002883</td>\n",
       "      <td>0.002883</td>\n",
       "      <td>0.002883</td>\n",
       "      <td>0.002883</td>\n",
       "      <td>0.002883</td>\n",
       "      <td>0.002883</td>\n",
       "      <td>NaN</td>\n",
       "    </tr>\n",
       "    <tr>\n",
       "      <th>num_mean_wind_speed_samples</th>\n",
       "      <td>-0.043694</td>\n",
       "      <td>-0.005640</td>\n",
       "      <td>0.942436</td>\n",
       "      <td>0.003935</td>\n",
       "      <td>0.920425</td>\n",
       "      <td>-0.016224</td>\n",
       "      <td>0.312462</td>\n",
       "      <td>-0.021160</td>\n",
       "      <td>0.945840</td>\n",
       "      <td>-0.003012</td>\n",
       "      <td>...</td>\n",
       "      <td>-0.023136</td>\n",
       "      <td>-0.096327</td>\n",
       "      <td>0.031426</td>\n",
       "      <td>0.030488</td>\n",
       "      <td>0.030488</td>\n",
       "      <td>0.030488</td>\n",
       "      <td>0.030488</td>\n",
       "      <td>0.030488</td>\n",
       "      <td>0.030488</td>\n",
       "      <td>NaN</td>\n",
       "    </tr>\n",
       "    <tr>\n",
       "      <th>max_sustained_wind_speed</th>\n",
       "      <td>-0.045821</td>\n",
       "      <td>-0.187173</td>\n",
       "      <td>0.050797</td>\n",
       "      <td>-0.170921</td>\n",
       "      <td>0.039115</td>\n",
       "      <td>-0.302299</td>\n",
       "      <td>-0.173322</td>\n",
       "      <td>-0.036273</td>\n",
       "      <td>0.051533</td>\n",
       "      <td>0.833409</td>\n",
       "      <td>...</td>\n",
       "      <td>-0.158742</td>\n",
       "      <td>0.038634</td>\n",
       "      <td>0.228239</td>\n",
       "      <td>0.041125</td>\n",
       "      <td>0.041125</td>\n",
       "      <td>0.041125</td>\n",
       "      <td>0.041125</td>\n",
       "      <td>0.041125</td>\n",
       "      <td>0.041125</td>\n",
       "      <td>NaN</td>\n",
       "    </tr>\n",
       "    <tr>\n",
       "      <th>max_gust_wind_speed</th>\n",
       "      <td>-0.012807</td>\n",
       "      <td>-0.088205</td>\n",
       "      <td>0.012647</td>\n",
       "      <td>-0.060947</td>\n",
       "      <td>0.002057</td>\n",
       "      <td>-0.262025</td>\n",
       "      <td>-0.174011</td>\n",
       "      <td>-0.060137</td>\n",
       "      <td>0.012901</td>\n",
       "      <td>0.569702</td>\n",
       "      <td>...</td>\n",
       "      <td>-0.069846</td>\n",
       "      <td>0.027169</td>\n",
       "      <td>0.225367</td>\n",
       "      <td>0.073564</td>\n",
       "      <td>0.073564</td>\n",
       "      <td>0.073564</td>\n",
       "      <td>0.073564</td>\n",
       "      <td>0.073564</td>\n",
       "      <td>0.073564</td>\n",
       "      <td>NaN</td>\n",
       "    </tr>\n",
       "    <tr>\n",
       "      <th>max_temperature</th>\n",
       "      <td>-0.019380</td>\n",
       "      <td>0.975254</td>\n",
       "      <td>-0.024292</td>\n",
       "      <td>0.970865</td>\n",
       "      <td>-0.022693</td>\n",
       "      <td>-0.376592</td>\n",
       "      <td>0.041314</td>\n",
       "      <td>0.051746</td>\n",
       "      <td>-0.024744</td>\n",
       "      <td>-0.253157</td>\n",
       "      <td>...</td>\n",
       "      <td>1.000000</td>\n",
       "      <td>-0.043106</td>\n",
       "      <td>0.121240</td>\n",
       "      <td>-0.080060</td>\n",
       "      <td>-0.080060</td>\n",
       "      <td>-0.080060</td>\n",
       "      <td>-0.080060</td>\n",
       "      <td>-0.080060</td>\n",
       "      <td>-0.080060</td>\n",
       "      <td>NaN</td>\n",
       "    </tr>\n",
       "    <tr>\n",
       "      <th>max_temperature_explicit</th>\n",
       "      <td>0.029943</td>\n",
       "      <td>-0.076854</td>\n",
       "      <td>-0.098322</td>\n",
       "      <td>-0.061403</td>\n",
       "      <td>-0.097408</td>\n",
       "      <td>0.005931</td>\n",
       "      <td>-0.111805</td>\n",
       "      <td>-0.058308</td>\n",
       "      <td>-0.099098</td>\n",
       "      <td>0.059564</td>\n",
       "      <td>...</td>\n",
       "      <td>-0.043106</td>\n",
       "      <td>1.000000</td>\n",
       "      <td>0.021763</td>\n",
       "      <td>0.003766</td>\n",
       "      <td>0.003766</td>\n",
       "      <td>0.003766</td>\n",
       "      <td>0.003766</td>\n",
       "      <td>0.003766</td>\n",
       "      <td>0.003766</td>\n",
       "      <td>NaN</td>\n",
       "    </tr>\n",
       "    <tr>\n",
       "      <th>total_precipitation</th>\n",
       "      <td>-0.019505</td>\n",
       "      <td>0.078553</td>\n",
       "      <td>0.034663</td>\n",
       "      <td>0.156153</td>\n",
       "      <td>0.025142</td>\n",
       "      <td>-0.222174</td>\n",
       "      <td>-0.303445</td>\n",
       "      <td>-0.218761</td>\n",
       "      <td>0.033448</td>\n",
       "      <td>0.154150</td>\n",
       "      <td>...</td>\n",
       "      <td>0.121240</td>\n",
       "      <td>0.021763</td>\n",
       "      <td>1.000000</td>\n",
       "      <td>0.108629</td>\n",
       "      <td>0.108629</td>\n",
       "      <td>0.108629</td>\n",
       "      <td>0.108629</td>\n",
       "      <td>0.108629</td>\n",
       "      <td>0.108629</td>\n",
       "      <td>NaN</td>\n",
       "    </tr>\n",
       "    <tr>\n",
       "      <th>fog</th>\n",
       "      <td>0.011234</td>\n",
       "      <td>-0.092112</td>\n",
       "      <td>0.037009</td>\n",
       "      <td>-0.016970</td>\n",
       "      <td>0.033976</td>\n",
       "      <td>-0.059449</td>\n",
       "      <td>-0.325351</td>\n",
       "      <td>-0.460573</td>\n",
       "      <td>0.038359</td>\n",
       "      <td>0.002883</td>\n",
       "      <td>...</td>\n",
       "      <td>-0.080060</td>\n",
       "      <td>0.003766</td>\n",
       "      <td>0.108629</td>\n",
       "      <td>1.000000</td>\n",
       "      <td>1.000000</td>\n",
       "      <td>1.000000</td>\n",
       "      <td>1.000000</td>\n",
       "      <td>1.000000</td>\n",
       "      <td>1.000000</td>\n",
       "      <td>NaN</td>\n",
       "    </tr>\n",
       "    <tr>\n",
       "      <th>rain</th>\n",
       "      <td>0.011234</td>\n",
       "      <td>-0.092112</td>\n",
       "      <td>0.037009</td>\n",
       "      <td>-0.016970</td>\n",
       "      <td>0.033976</td>\n",
       "      <td>-0.059449</td>\n",
       "      <td>-0.325351</td>\n",
       "      <td>-0.460573</td>\n",
       "      <td>0.038359</td>\n",
       "      <td>0.002883</td>\n",
       "      <td>...</td>\n",
       "      <td>-0.080060</td>\n",
       "      <td>0.003766</td>\n",
       "      <td>0.108629</td>\n",
       "      <td>1.000000</td>\n",
       "      <td>1.000000</td>\n",
       "      <td>1.000000</td>\n",
       "      <td>1.000000</td>\n",
       "      <td>1.000000</td>\n",
       "      <td>1.000000</td>\n",
       "      <td>NaN</td>\n",
       "    </tr>\n",
       "    <tr>\n",
       "      <th>snow</th>\n",
       "      <td>0.011234</td>\n",
       "      <td>-0.092112</td>\n",
       "      <td>0.037009</td>\n",
       "      <td>-0.016970</td>\n",
       "      <td>0.033976</td>\n",
       "      <td>-0.059449</td>\n",
       "      <td>-0.325351</td>\n",
       "      <td>-0.460573</td>\n",
       "      <td>0.038359</td>\n",
       "      <td>0.002883</td>\n",
       "      <td>...</td>\n",
       "      <td>-0.080060</td>\n",
       "      <td>0.003766</td>\n",
       "      <td>0.108629</td>\n",
       "      <td>1.000000</td>\n",
       "      <td>1.000000</td>\n",
       "      <td>1.000000</td>\n",
       "      <td>1.000000</td>\n",
       "      <td>1.000000</td>\n",
       "      <td>1.000000</td>\n",
       "      <td>NaN</td>\n",
       "    </tr>\n",
       "    <tr>\n",
       "      <th>hail</th>\n",
       "      <td>0.011234</td>\n",
       "      <td>-0.092112</td>\n",
       "      <td>0.037009</td>\n",
       "      <td>-0.016970</td>\n",
       "      <td>0.033976</td>\n",
       "      <td>-0.059449</td>\n",
       "      <td>-0.325351</td>\n",
       "      <td>-0.460573</td>\n",
       "      <td>0.038359</td>\n",
       "      <td>0.002883</td>\n",
       "      <td>...</td>\n",
       "      <td>-0.080060</td>\n",
       "      <td>0.003766</td>\n",
       "      <td>0.108629</td>\n",
       "      <td>1.000000</td>\n",
       "      <td>1.000000</td>\n",
       "      <td>1.000000</td>\n",
       "      <td>1.000000</td>\n",
       "      <td>1.000000</td>\n",
       "      <td>1.000000</td>\n",
       "      <td>NaN</td>\n",
       "    </tr>\n",
       "    <tr>\n",
       "      <th>thunder</th>\n",
       "      <td>0.011234</td>\n",
       "      <td>-0.092112</td>\n",
       "      <td>0.037009</td>\n",
       "      <td>-0.016970</td>\n",
       "      <td>0.033976</td>\n",
       "      <td>-0.059449</td>\n",
       "      <td>-0.325351</td>\n",
       "      <td>-0.460573</td>\n",
       "      <td>0.038359</td>\n",
       "      <td>0.002883</td>\n",
       "      <td>...</td>\n",
       "      <td>-0.080060</td>\n",
       "      <td>0.003766</td>\n",
       "      <td>0.108629</td>\n",
       "      <td>1.000000</td>\n",
       "      <td>1.000000</td>\n",
       "      <td>1.000000</td>\n",
       "      <td>1.000000</td>\n",
       "      <td>1.000000</td>\n",
       "      <td>1.000000</td>\n",
       "      <td>NaN</td>\n",
       "    </tr>\n",
       "    <tr>\n",
       "      <th>tornado</th>\n",
       "      <td>0.011234</td>\n",
       "      <td>-0.092112</td>\n",
       "      <td>0.037009</td>\n",
       "      <td>-0.016970</td>\n",
       "      <td>0.033976</td>\n",
       "      <td>-0.059449</td>\n",
       "      <td>-0.325351</td>\n",
       "      <td>-0.460573</td>\n",
       "      <td>0.038359</td>\n",
       "      <td>0.002883</td>\n",
       "      <td>...</td>\n",
       "      <td>-0.080060</td>\n",
       "      <td>0.003766</td>\n",
       "      <td>0.108629</td>\n",
       "      <td>1.000000</td>\n",
       "      <td>1.000000</td>\n",
       "      <td>1.000000</td>\n",
       "      <td>1.000000</td>\n",
       "      <td>1.000000</td>\n",
       "      <td>1.000000</td>\n",
       "      <td>NaN</td>\n",
       "    </tr>\n",
       "    <tr>\n",
       "      <th>approved timerange</th>\n",
       "      <td>NaN</td>\n",
       "      <td>NaN</td>\n",
       "      <td>NaN</td>\n",
       "      <td>NaN</td>\n",
       "      <td>NaN</td>\n",
       "      <td>NaN</td>\n",
       "      <td>NaN</td>\n",
       "      <td>NaN</td>\n",
       "      <td>NaN</td>\n",
       "      <td>NaN</td>\n",
       "      <td>...</td>\n",
       "      <td>NaN</td>\n",
       "      <td>NaN</td>\n",
       "      <td>NaN</td>\n",
       "      <td>NaN</td>\n",
       "      <td>NaN</td>\n",
       "      <td>NaN</td>\n",
       "      <td>NaN</td>\n",
       "      <td>NaN</td>\n",
       "      <td>NaN</td>\n",
       "      <td>NaN</td>\n",
       "    </tr>\n",
       "  </tbody>\n",
       "</table>\n",
       "<p>23 rows × 23 columns</p>\n",
       "</div>"
      ],
      "text/plain": [
       "                                    station_number  mean_temp  \\\n",
       "station_number                            1.000000  -0.016291   \n",
       "mean_temp                                -0.016291   1.000000   \n",
       "num_mean_temp_samples                    -0.035910  -0.006746   \n",
       "mean_dew_point                            0.000254   0.965052   \n",
       "num_mean_dew_point_samples               -0.033034  -0.005059   \n",
       "mean_sealevel_pressure                    0.032332  -0.345626   \n",
       "num_mean_sealevel_pressure_samples       -0.010590   0.114308   \n",
       "mean_visibility                          -0.010873   0.113425   \n",
       "num_mean_visibility_samples              -0.037577  -0.007371   \n",
       "mean_wind_speed                          -0.080478  -0.300619   \n",
       "num_mean_wind_speed_samples              -0.043694  -0.005640   \n",
       "max_sustained_wind_speed                 -0.045821  -0.187173   \n",
       "max_gust_wind_speed                      -0.012807  -0.088205   \n",
       "max_temperature                          -0.019380   0.975254   \n",
       "max_temperature_explicit                  0.029943  -0.076854   \n",
       "total_precipitation                      -0.019505   0.078553   \n",
       "fog                                       0.011234  -0.092112   \n",
       "rain                                      0.011234  -0.092112   \n",
       "snow                                      0.011234  -0.092112   \n",
       "hail                                      0.011234  -0.092112   \n",
       "thunder                                   0.011234  -0.092112   \n",
       "tornado                                   0.011234  -0.092112   \n",
       "approved timerange                             NaN        NaN   \n",
       "\n",
       "                                    num_mean_temp_samples  mean_dew_point  \\\n",
       "station_number                                  -0.035910        0.000254   \n",
       "mean_temp                                       -0.006746        0.965052   \n",
       "num_mean_temp_samples                            1.000000        0.005631   \n",
       "mean_dew_point                                   0.005631        1.000000   \n",
       "num_mean_dew_point_samples                       0.974355        0.004793   \n",
       "mean_sealevel_pressure                          -0.021706       -0.397490   \n",
       "num_mean_sealevel_pressure_samples               0.322041       -0.011751   \n",
       "mean_visibility                                 -0.027116       -0.050519   \n",
       "num_mean_visibility_samples                      0.993134        0.004657   \n",
       "mean_wind_speed                                 -0.005736       -0.289760   \n",
       "num_mean_wind_speed_samples                      0.942436        0.003935   \n",
       "max_sustained_wind_speed                         0.050797       -0.170921   \n",
       "max_gust_wind_speed                              0.012647       -0.060947   \n",
       "max_temperature                                 -0.024292        0.970865   \n",
       "max_temperature_explicit                        -0.098322       -0.061403   \n",
       "total_precipitation                              0.034663        0.156153   \n",
       "fog                                              0.037009       -0.016970   \n",
       "rain                                             0.037009       -0.016970   \n",
       "snow                                             0.037009       -0.016970   \n",
       "hail                                             0.037009       -0.016970   \n",
       "thunder                                          0.037009       -0.016970   \n",
       "tornado                                          0.037009       -0.016970   \n",
       "approved timerange                                    NaN             NaN   \n",
       "\n",
       "                                    num_mean_dew_point_samples  \\\n",
       "station_number                                       -0.033034   \n",
       "mean_temp                                            -0.005059   \n",
       "num_mean_temp_samples                                 0.974355   \n",
       "mean_dew_point                                        0.004793   \n",
       "num_mean_dew_point_samples                            1.000000   \n",
       "mean_sealevel_pressure                               -0.012089   \n",
       "num_mean_sealevel_pressure_samples                    0.323541   \n",
       "mean_visibility                                      -0.021850   \n",
       "num_mean_visibility_samples                           0.969692   \n",
       "mean_wind_speed                                      -0.014157   \n",
       "num_mean_wind_speed_samples                           0.920425   \n",
       "max_sustained_wind_speed                              0.039115   \n",
       "max_gust_wind_speed                                   0.002057   \n",
       "max_temperature                                      -0.022693   \n",
       "max_temperature_explicit                             -0.097408   \n",
       "total_precipitation                                   0.025142   \n",
       "fog                                                   0.033976   \n",
       "rain                                                  0.033976   \n",
       "snow                                                  0.033976   \n",
       "hail                                                  0.033976   \n",
       "thunder                                               0.033976   \n",
       "tornado                                               0.033976   \n",
       "approved timerange                                         NaN   \n",
       "\n",
       "                                    mean_sealevel_pressure  \\\n",
       "station_number                                    0.032332   \n",
       "mean_temp                                        -0.345626   \n",
       "num_mean_temp_samples                            -0.021706   \n",
       "mean_dew_point                                   -0.397490   \n",
       "num_mean_dew_point_samples                       -0.012089   \n",
       "mean_sealevel_pressure                            1.000000   \n",
       "num_mean_sealevel_pressure_samples                0.205893   \n",
       "mean_visibility                                   0.166402   \n",
       "num_mean_visibility_samples                      -0.021408   \n",
       "mean_wind_speed                                  -0.251963   \n",
       "num_mean_wind_speed_samples                      -0.016224   \n",
       "max_sustained_wind_speed                         -0.302299   \n",
       "max_gust_wind_speed                              -0.262025   \n",
       "max_temperature                                  -0.376592   \n",
       "max_temperature_explicit                          0.005931   \n",
       "total_precipitation                              -0.222174   \n",
       "fog                                              -0.059449   \n",
       "rain                                             -0.059449   \n",
       "snow                                             -0.059449   \n",
       "hail                                             -0.059449   \n",
       "thunder                                          -0.059449   \n",
       "tornado                                          -0.059449   \n",
       "approved timerange                                     NaN   \n",
       "\n",
       "                                    num_mean_sealevel_pressure_samples  \\\n",
       "station_number                                               -0.010590   \n",
       "mean_temp                                                     0.114308   \n",
       "num_mean_temp_samples                                         0.322041   \n",
       "mean_dew_point                                               -0.011751   \n",
       "num_mean_dew_point_samples                                    0.323541   \n",
       "mean_sealevel_pressure                                        0.205893   \n",
       "num_mean_sealevel_pressure_samples                            1.000000   \n",
       "mean_visibility                                               0.560192   \n",
       "num_mean_visibility_samples                                   0.320134   \n",
       "mean_wind_speed                                              -0.171243   \n",
       "num_mean_wind_speed_samples                                   0.312462   \n",
       "max_sustained_wind_speed                                     -0.173322   \n",
       "max_gust_wind_speed                                          -0.174011   \n",
       "max_temperature                                               0.041314   \n",
       "max_temperature_explicit                                     -0.111805   \n",
       "total_precipitation                                          -0.303445   \n",
       "fog                                                          -0.325351   \n",
       "rain                                                         -0.325351   \n",
       "snow                                                         -0.325351   \n",
       "hail                                                         -0.325351   \n",
       "thunder                                                      -0.325351   \n",
       "tornado                                                      -0.325351   \n",
       "approved timerange                                                 NaN   \n",
       "\n",
       "                                    mean_visibility  \\\n",
       "station_number                            -0.010873   \n",
       "mean_temp                                  0.113425   \n",
       "num_mean_temp_samples                     -0.027116   \n",
       "mean_dew_point                            -0.050519   \n",
       "num_mean_dew_point_samples                -0.021850   \n",
       "mean_sealevel_pressure                     0.166402   \n",
       "num_mean_sealevel_pressure_samples         0.560192   \n",
       "mean_visibility                            1.000000   \n",
       "num_mean_visibility_samples               -0.027867   \n",
       "mean_wind_speed                           -0.008293   \n",
       "num_mean_wind_speed_samples               -0.021160   \n",
       "max_sustained_wind_speed                  -0.036273   \n",
       "max_gust_wind_speed                       -0.060137   \n",
       "max_temperature                            0.051746   \n",
       "max_temperature_explicit                  -0.058308   \n",
       "total_precipitation                       -0.218761   \n",
       "fog                                       -0.460573   \n",
       "rain                                      -0.460573   \n",
       "snow                                      -0.460573   \n",
       "hail                                      -0.460573   \n",
       "thunder                                   -0.460573   \n",
       "tornado                                   -0.460573   \n",
       "approved timerange                              NaN   \n",
       "\n",
       "                                    num_mean_visibility_samples  \\\n",
       "station_number                                        -0.037577   \n",
       "mean_temp                                             -0.007371   \n",
       "num_mean_temp_samples                                  0.993134   \n",
       "mean_dew_point                                         0.004657   \n",
       "num_mean_dew_point_samples                             0.969692   \n",
       "mean_sealevel_pressure                                -0.021408   \n",
       "num_mean_sealevel_pressure_samples                     0.320134   \n",
       "mean_visibility                                       -0.027867   \n",
       "num_mean_visibility_samples                            1.000000   \n",
       "mean_wind_speed                                       -0.004715   \n",
       "num_mean_wind_speed_samples                            0.945840   \n",
       "max_sustained_wind_speed                               0.051533   \n",
       "max_gust_wind_speed                                    0.012901   \n",
       "max_temperature                                       -0.024744   \n",
       "max_temperature_explicit                              -0.099098   \n",
       "total_precipitation                                    0.033448   \n",
       "fog                                                    0.038359   \n",
       "rain                                                   0.038359   \n",
       "snow                                                   0.038359   \n",
       "hail                                                   0.038359   \n",
       "thunder                                                0.038359   \n",
       "tornado                                                0.038359   \n",
       "approved timerange                                          NaN   \n",
       "\n",
       "                                    mean_wind_speed  ...  max_temperature  \\\n",
       "station_number                            -0.080478  ...        -0.019380   \n",
       "mean_temp                                 -0.300619  ...         0.975254   \n",
       "num_mean_temp_samples                     -0.005736  ...        -0.024292   \n",
       "mean_dew_point                            -0.289760  ...         0.970865   \n",
       "num_mean_dew_point_samples                -0.014157  ...        -0.022693   \n",
       "mean_sealevel_pressure                    -0.251963  ...        -0.376592   \n",
       "num_mean_sealevel_pressure_samples        -0.171243  ...         0.041314   \n",
       "mean_visibility                           -0.008293  ...         0.051746   \n",
       "num_mean_visibility_samples               -0.004715  ...        -0.024744   \n",
       "mean_wind_speed                            1.000000  ...        -0.253157   \n",
       "num_mean_wind_speed_samples               -0.003012  ...        -0.023136   \n",
       "max_sustained_wind_speed                   0.833409  ...        -0.158742   \n",
       "max_gust_wind_speed                        0.569702  ...        -0.069846   \n",
       "max_temperature                           -0.253157  ...         1.000000   \n",
       "max_temperature_explicit                   0.059564  ...        -0.043106   \n",
       "total_precipitation                        0.154150  ...         0.121240   \n",
       "fog                                        0.002883  ...        -0.080060   \n",
       "rain                                       0.002883  ...        -0.080060   \n",
       "snow                                       0.002883  ...        -0.080060   \n",
       "hail                                       0.002883  ...        -0.080060   \n",
       "thunder                                    0.002883  ...        -0.080060   \n",
       "tornado                                    0.002883  ...        -0.080060   \n",
       "approved timerange                              NaN  ...              NaN   \n",
       "\n",
       "                                    max_temperature_explicit  \\\n",
       "station_number                                      0.029943   \n",
       "mean_temp                                          -0.076854   \n",
       "num_mean_temp_samples                              -0.098322   \n",
       "mean_dew_point                                     -0.061403   \n",
       "num_mean_dew_point_samples                         -0.097408   \n",
       "mean_sealevel_pressure                              0.005931   \n",
       "num_mean_sealevel_pressure_samples                 -0.111805   \n",
       "mean_visibility                                    -0.058308   \n",
       "num_mean_visibility_samples                        -0.099098   \n",
       "mean_wind_speed                                     0.059564   \n",
       "num_mean_wind_speed_samples                        -0.096327   \n",
       "max_sustained_wind_speed                            0.038634   \n",
       "max_gust_wind_speed                                 0.027169   \n",
       "max_temperature                                    -0.043106   \n",
       "max_temperature_explicit                            1.000000   \n",
       "total_precipitation                                 0.021763   \n",
       "fog                                                 0.003766   \n",
       "rain                                                0.003766   \n",
       "snow                                                0.003766   \n",
       "hail                                                0.003766   \n",
       "thunder                                             0.003766   \n",
       "tornado                                             0.003766   \n",
       "approved timerange                                       NaN   \n",
       "\n",
       "                                    total_precipitation       fog      rain  \\\n",
       "station_number                                -0.019505  0.011234  0.011234   \n",
       "mean_temp                                      0.078553 -0.092112 -0.092112   \n",
       "num_mean_temp_samples                          0.034663  0.037009  0.037009   \n",
       "mean_dew_point                                 0.156153 -0.016970 -0.016970   \n",
       "num_mean_dew_point_samples                     0.025142  0.033976  0.033976   \n",
       "mean_sealevel_pressure                        -0.222174 -0.059449 -0.059449   \n",
       "num_mean_sealevel_pressure_samples            -0.303445 -0.325351 -0.325351   \n",
       "mean_visibility                               -0.218761 -0.460573 -0.460573   \n",
       "num_mean_visibility_samples                    0.033448  0.038359  0.038359   \n",
       "mean_wind_speed                                0.154150  0.002883  0.002883   \n",
       "num_mean_wind_speed_samples                    0.031426  0.030488  0.030488   \n",
       "max_sustained_wind_speed                       0.228239  0.041125  0.041125   \n",
       "max_gust_wind_speed                            0.225367  0.073564  0.073564   \n",
       "max_temperature                                0.121240 -0.080060 -0.080060   \n",
       "max_temperature_explicit                       0.021763  0.003766  0.003766   \n",
       "total_precipitation                            1.000000  0.108629  0.108629   \n",
       "fog                                            0.108629  1.000000  1.000000   \n",
       "rain                                           0.108629  1.000000  1.000000   \n",
       "snow                                           0.108629  1.000000  1.000000   \n",
       "hail                                           0.108629  1.000000  1.000000   \n",
       "thunder                                        0.108629  1.000000  1.000000   \n",
       "tornado                                        0.108629  1.000000  1.000000   \n",
       "approved timerange                                  NaN       NaN       NaN   \n",
       "\n",
       "                                        snow      hail   thunder   tornado  \\\n",
       "station_number                      0.011234  0.011234  0.011234  0.011234   \n",
       "mean_temp                          -0.092112 -0.092112 -0.092112 -0.092112   \n",
       "num_mean_temp_samples               0.037009  0.037009  0.037009  0.037009   \n",
       "mean_dew_point                     -0.016970 -0.016970 -0.016970 -0.016970   \n",
       "num_mean_dew_point_samples          0.033976  0.033976  0.033976  0.033976   \n",
       "mean_sealevel_pressure             -0.059449 -0.059449 -0.059449 -0.059449   \n",
       "num_mean_sealevel_pressure_samples -0.325351 -0.325351 -0.325351 -0.325351   \n",
       "mean_visibility                    -0.460573 -0.460573 -0.460573 -0.460573   \n",
       "num_mean_visibility_samples         0.038359  0.038359  0.038359  0.038359   \n",
       "mean_wind_speed                     0.002883  0.002883  0.002883  0.002883   \n",
       "num_mean_wind_speed_samples         0.030488  0.030488  0.030488  0.030488   \n",
       "max_sustained_wind_speed            0.041125  0.041125  0.041125  0.041125   \n",
       "max_gust_wind_speed                 0.073564  0.073564  0.073564  0.073564   \n",
       "max_temperature                    -0.080060 -0.080060 -0.080060 -0.080060   \n",
       "max_temperature_explicit            0.003766  0.003766  0.003766  0.003766   \n",
       "total_precipitation                 0.108629  0.108629  0.108629  0.108629   \n",
       "fog                                 1.000000  1.000000  1.000000  1.000000   \n",
       "rain                                1.000000  1.000000  1.000000  1.000000   \n",
       "snow                                1.000000  1.000000  1.000000  1.000000   \n",
       "hail                                1.000000  1.000000  1.000000  1.000000   \n",
       "thunder                             1.000000  1.000000  1.000000  1.000000   \n",
       "tornado                             1.000000  1.000000  1.000000  1.000000   \n",
       "approved timerange                       NaN       NaN       NaN       NaN   \n",
       "\n",
       "                                    approved timerange  \n",
       "station_number                                     NaN  \n",
       "mean_temp                                          NaN  \n",
       "num_mean_temp_samples                              NaN  \n",
       "mean_dew_point                                     NaN  \n",
       "num_mean_dew_point_samples                         NaN  \n",
       "mean_sealevel_pressure                             NaN  \n",
       "num_mean_sealevel_pressure_samples                 NaN  \n",
       "mean_visibility                                    NaN  \n",
       "num_mean_visibility_samples                        NaN  \n",
       "mean_wind_speed                                    NaN  \n",
       "num_mean_wind_speed_samples                        NaN  \n",
       "max_sustained_wind_speed                           NaN  \n",
       "max_gust_wind_speed                                NaN  \n",
       "max_temperature                                    NaN  \n",
       "max_temperature_explicit                           NaN  \n",
       "total_precipitation                                NaN  \n",
       "fog                                                NaN  \n",
       "rain                                               NaN  \n",
       "snow                                               NaN  \n",
       "hail                                               NaN  \n",
       "thunder                                            NaN  \n",
       "tornado                                            NaN  \n",
       "approved timerange                                 NaN  \n",
       "\n",
       "[23 rows x 23 columns]"
      ]
     },
     "execution_count": 28,
     "metadata": {},
     "output_type": "execute_result"
    }
   ],
   "source": [
    "corr_df = df.drop([\"observed_date\"], axis = 1).corr()\n",
    "corr_df"
   ]
  },
  {
   "cell_type": "markdown",
   "metadata": {},
   "source": [
    "First let's check out where we have nan values in correlation"
   ]
  },
  {
   "cell_type": "code",
   "execution_count": 29,
   "metadata": {},
   "outputs": [
    {
     "data": {
      "text/plain": [
       "station_number                         1\n",
       "mean_temp                              1\n",
       "num_mean_temp_samples                  1\n",
       "mean_dew_point                         1\n",
       "num_mean_dew_point_samples             1\n",
       "mean_sealevel_pressure                 1\n",
       "num_mean_sealevel_pressure_samples     1\n",
       "mean_visibility                        1\n",
       "num_mean_visibility_samples            1\n",
       "mean_wind_speed                        1\n",
       "num_mean_wind_speed_samples            1\n",
       "max_sustained_wind_speed               1\n",
       "max_gust_wind_speed                    1\n",
       "max_temperature                        1\n",
       "max_temperature_explicit               1\n",
       "total_precipitation                    1\n",
       "fog                                    1\n",
       "rain                                   1\n",
       "snow                                   1\n",
       "hail                                   1\n",
       "thunder                                1\n",
       "tornado                                1\n",
       "approved timerange                    23\n",
       "dtype: int64"
      ]
     },
     "execution_count": 29,
     "metadata": {},
     "output_type": "execute_result"
    }
   ],
   "source": [
    "corr_df.isna().sum()"
   ]
  },
  {
   "cell_type": "markdown",
   "metadata": {},
   "source": [
    "We see that \"approved timerange \" has nan values with all columns. Let's see how many unique values \"approved timerange\" contains"
   ]
  },
  {
   "cell_type": "code",
   "execution_count": 30,
   "metadata": {},
   "outputs": [
    {
     "data": {
      "text/plain": [
       "array([False])"
      ]
     },
     "execution_count": 30,
     "metadata": {},
     "output_type": "execute_result"
    }
   ],
   "source": [
    "df[\"approved timerange\"].unique()"
   ]
  },
  {
   "cell_type": "markdown",
   "metadata": {},
   "source": [
    "We could drop this column since it has only one value"
   ]
  },
  {
   "cell_type": "code",
   "execution_count": 31,
   "metadata": {},
   "outputs": [],
   "source": [
    "df = df.drop(\"approved timerange\", axis=1)\n",
    "corr_df = df.drop([\"observed_date\"], axis = 1).corr()"
   ]
  },
  {
   "cell_type": "code",
   "execution_count": 33,
   "metadata": {
    "scrolled": false
   },
   "outputs": [
    {
     "name": "stdout",
     "output_type": "stream",
     "text": [
      "mean_temp is correlated with \n",
      " mean_dew_point     0.965052\n",
      "max_temperature    0.975254\n",
      "Name: mean_temp, dtype: float64 \n",
      "\n",
      "num_mean_temp_samples is correlated with \n",
      " num_mean_dew_point_samples     0.974355\n",
      "num_mean_visibility_samples    0.993134\n",
      "num_mean_wind_speed_samples    0.942436\n",
      "Name: num_mean_temp_samples, dtype: float64 \n",
      "\n",
      "mean_dew_point is correlated with \n",
      " mean_temp          0.965052\n",
      "max_temperature    0.970865\n",
      "Name: mean_dew_point, dtype: float64 \n",
      "\n",
      "num_mean_dew_point_samples is correlated with \n",
      " num_mean_temp_samples          0.974355\n",
      "num_mean_visibility_samples    0.969692\n",
      "num_mean_wind_speed_samples    0.920425\n",
      "Name: num_mean_dew_point_samples, dtype: float64 \n",
      "\n",
      "num_mean_sealevel_pressure_samples is correlated with \n",
      " mean_visibility    0.560192\n",
      "Name: num_mean_sealevel_pressure_samples, dtype: float64 \n",
      "\n",
      "mean_visibility is correlated with \n",
      " num_mean_sealevel_pressure_samples    0.560192\n",
      "Name: mean_visibility, dtype: float64 \n",
      "\n",
      "num_mean_visibility_samples is correlated with \n",
      " num_mean_temp_samples          0.993134\n",
      "num_mean_dew_point_samples     0.969692\n",
      "num_mean_wind_speed_samples    0.945840\n",
      "Name: num_mean_visibility_samples, dtype: float64 \n",
      "\n",
      "mean_wind_speed is correlated with \n",
      " max_sustained_wind_speed    0.833409\n",
      "max_gust_wind_speed         0.569702\n",
      "Name: mean_wind_speed, dtype: float64 \n",
      "\n",
      "num_mean_wind_speed_samples is correlated with \n",
      " num_mean_temp_samples          0.942436\n",
      "num_mean_dew_point_samples     0.920425\n",
      "num_mean_visibility_samples    0.945840\n",
      "Name: num_mean_wind_speed_samples, dtype: float64 \n",
      "\n",
      "max_sustained_wind_speed is correlated with \n",
      " mean_wind_speed        0.833409\n",
      "max_gust_wind_speed    0.718942\n",
      "Name: max_sustained_wind_speed, dtype: float64 \n",
      "\n",
      "max_gust_wind_speed is correlated with \n",
      " mean_wind_speed             0.569702\n",
      "max_sustained_wind_speed    0.718942\n",
      "Name: max_gust_wind_speed, dtype: float64 \n",
      "\n",
      "max_temperature is correlated with \n",
      " mean_temp         0.975254\n",
      "mean_dew_point    0.970865\n",
      "Name: max_temperature, dtype: float64 \n",
      "\n",
      "fog is correlated with \n",
      " rain       1.0\n",
      "snow       1.0\n",
      "hail       1.0\n",
      "thunder    1.0\n",
      "tornado    1.0\n",
      "Name: fog, dtype: float64 \n",
      "\n",
      "rain is correlated with \n",
      " fog        1.0\n",
      "snow       1.0\n",
      "hail       1.0\n",
      "thunder    1.0\n",
      "tornado    1.0\n",
      "Name: rain, dtype: float64 \n",
      "\n",
      "snow is correlated with \n",
      " fog        1.0\n",
      "rain       1.0\n",
      "hail       1.0\n",
      "thunder    1.0\n",
      "tornado    1.0\n",
      "Name: snow, dtype: float64 \n",
      "\n",
      "hail is correlated with \n",
      " fog        1.0\n",
      "rain       1.0\n",
      "snow       1.0\n",
      "thunder    1.0\n",
      "tornado    1.0\n",
      "Name: hail, dtype: float64 \n",
      "\n",
      "thunder is correlated with \n",
      " fog        1.0\n",
      "rain       1.0\n",
      "snow       1.0\n",
      "hail       1.0\n",
      "tornado    1.0\n",
      "Name: thunder, dtype: float64 \n",
      "\n",
      "tornado is correlated with \n",
      " fog        1.0\n",
      "rain       1.0\n",
      "snow       1.0\n",
      "hail       1.0\n",
      "thunder    1.0\n",
      "Name: tornado, dtype: float64 \n",
      "\n"
     ]
    }
   ],
   "source": [
    "for i, column in enumerate(corr_df.columns):\n",
    "    correlated_vals = corr_df[column].loc[(abs(corr_df[column])>0.5) & (corr_df[column].index != column)].index\n",
    "    if len(correlated_vals)>0:\n",
    "        print(f\"{column} is correlated with \\n {corr_df.loc[correlated_vals, column]} \\n\")"
   ]
  },
  {
   "cell_type": "markdown",
   "metadata": {},
   "source": [
    "We see thw following correlation qwith snow:\n",
    "\n",
    "snow is correlated with \n",
    "\n",
    "    fog        1.0\n",
    "     \n",
    "    rain       1.0\n",
    "    \n",
    "    hail       1.0\n",
    "    \n",
    "    thunder    1.0\n",
    "    \n",
    "    tornado    1.0\n",
    "    \n",
    "Since all these values are booleans, let's check if they are the same"
   ]
  },
  {
   "cell_type": "code",
   "execution_count": 34,
   "metadata": {},
   "outputs": [
    {
     "name": "stdout",
     "output_type": "stream",
     "text": [
      "the columns are idenctical\n"
     ]
    }
   ],
   "source": [
    "corr_columns = [\"fog\", \"rain\", \"hail\", \"thunder\", \"tornado\"]\n",
    "same = True\n",
    "for column in corr_columns: \n",
    "    positive_vals = df.loc[df[\"snow\"]][column].unique()\n",
    "    if len(positive_vals) != 1 or not positive_vals[0]:\n",
    "        print(column, \" is not the same\")\n",
    "        same= False\n",
    "    negative_vals = df.loc[~df[\"snow\"]][column].unique()\n",
    "    if len(negative_vals) != 1 or negative_vals[0]:\n",
    "        print(column, \" is not the same\")\n",
    "        same= False\n",
    "if same:\n",
    "    print(\"the columns are idenctical\")"
   ]
  },
  {
   "cell_type": "markdown",
   "metadata": {},
   "source": [
    "Consequently, we could drop \"fog\", \"rain\", \"hail\", \"thunder\", \"tornado\" columns"
   ]
  },
  {
   "cell_type": "code",
   "execution_count": 35,
   "metadata": {},
   "outputs": [],
   "source": [
    "df = df.drop( [\"fog\", \"rain\", \"hail\", \"thunder\", \"tornado\"], axis = 1)"
   ]
  },
  {
   "cell_type": "markdown",
   "metadata": {},
   "source": [
    "Another correlation which we see is between \"mean_temp\", \"mean_dew_point\", \"max_temperature\"\n",
    "We could drop \"max_temperature\" and keep \"mean_temp\". To be sure that the choise is correct, we could check out \"max_temperature_explicit\" to see how often maximmum temperature is explicit.\n",
    "\"mean_dew_point\" is somethng what is important for snow, that is why we are going to keep it."
   ]
  },
  {
   "cell_type": "code",
   "execution_count": 36,
   "metadata": {},
   "outputs": [
    {
     "data": {
      "text/plain": [
       "10485"
      ]
     },
     "execution_count": 36,
     "metadata": {},
     "output_type": "execute_result"
    }
   ],
   "source": [
    "len(df[~df[\"max_temperature_explicit\"]])"
   ]
  },
  {
   "cell_type": "markdown",
   "metadata": {},
   "source": [
    "We see that the majority of the time the max temmperature is not expllcit. It confirms our theory that we should drop max_termmperature. Also we could drop \"max_temperature_explicit\", since we do nto have information about max_temperature."
   ]
  },
  {
   "cell_type": "code",
   "execution_count": 37,
   "metadata": {},
   "outputs": [],
   "source": [
    "df = df.drop([\"max_temperature\", \"max_temperature_explicit\"], axis =1 )"
   ]
  },
  {
   "cell_type": "markdown",
   "metadata": {},
   "source": [
    "Number of samples are quationaly ging to help us with the snow classification but what is more, majority of them are hightly correlated, consequently, we are going to drop them as well."
   ]
  },
  {
   "cell_type": "code",
   "execution_count": 38,
   "metadata": {},
   "outputs": [],
   "source": [
    "df = df.drop([\"num_mean_temp_samples\", \"num_mean_dew_point_samples\", \n",
    "  \"num_mean_sealevel_pressure_samples\", \n",
    "  \"num_mean_visibility_samples\",\"num_mean_wind_speed_samples\"], axis = 1)"
   ]
  },
  {
   "cell_type": "markdown",
   "metadata": {},
   "source": [
    "The last block of correlated values reffer to wind. If \"mean_wind_speed\" and \"max_gust_wind_speed\" are moderately correlated, \"max_gust_wind_speed\" is highly correlated. Consequently, we are going to drop \"max_gust_wind_speed\". "
   ]
  },
  {
   "cell_type": "code",
   "execution_count": 39,
   "metadata": {},
   "outputs": [],
   "source": [
    "df = df.drop(\"max_gust_wind_speed\", axis = 1)"
   ]
  },
  {
   "cell_type": "markdown",
   "metadata": {},
   "source": [
    "Let's have a look at our final dataset after preprocessing"
   ]
  },
  {
   "cell_type": "code",
   "execution_count": 40,
   "metadata": {},
   "outputs": [
    {
     "name": "stdout",
     "output_type": "stream",
     "text": [
      "<class 'pandas.core.frame.DataFrame'>\n",
      "RangeIndex: 17924 entries, 0 to 17923\n",
      "Data columns (total 10 columns):\n",
      " #   Column                    Non-Null Count  Dtype         \n",
      "---  ------                    --------------  -----         \n",
      " 0   observed_date             17924 non-null  datetime64[ns]\n",
      " 1   station_number            17924 non-null  int64         \n",
      " 2   mean_temp                 17924 non-null  float64       \n",
      " 3   mean_dew_point            17924 non-null  float64       \n",
      " 4   mean_sealevel_pressure    17924 non-null  float64       \n",
      " 5   mean_visibility           17924 non-null  float64       \n",
      " 6   mean_wind_speed           17924 non-null  float64       \n",
      " 7   max_sustained_wind_speed  17924 non-null  float64       \n",
      " 8   total_precipitation       17924 non-null  float64       \n",
      " 9   snow                      17924 non-null  bool          \n",
      "dtypes: bool(1), datetime64[ns](1), float64(7), int64(1)\n",
      "memory usage: 1.2 MB\n"
     ]
    }
   ],
   "source": [
    "df.reset_index(drop = True, inplace = True)\n",
    "df.info()"
   ]
  },
  {
   "cell_type": "markdown",
   "metadata": {},
   "source": [
    "### 3. Task\n",
    "Now it is time to split the data, into a training, evaluation and test set. As a reminder, the date we are trying to predict snow fall for should constitute your test set."
   ]
  },
  {
   "cell_type": "code",
   "execution_count": 41,
   "metadata": {},
   "outputs": [
    {
     "data": {
      "text/plain": [
       "'2009-12-01'"
      ]
     },
     "execution_count": 41,
     "metadata": {},
     "output_type": "execute_result"
    }
   ],
   "source": [
    "import datetime as dt\n",
    "\n",
    "test_day = str(dt.datetime.today()- dt.timedelta(days=14*365)).split(' ')[0]\n",
    "test_day"
   ]
  },
  {
   "cell_type": "markdown",
   "metadata": {},
   "source": [
    "To avoid data lickage we should check out if we have only one unique value for each station number and one day."
   ]
  },
  {
   "cell_type": "code",
   "execution_count": 42,
   "metadata": {},
   "outputs": [
    {
     "name": "stdout",
     "output_type": "stream",
     "text": [
      "For each day and each station we have maximum maximum      1 value\n"
     ]
    }
   ],
   "source": [
    "print( f\"For each day and each station we have maximum maximum\\\n",
    "      {df.groupby(by = ['observed_date', 'station_number'])['mean_temp'].count().max()} value\")"
   ]
  },
  {
   "cell_type": "markdown",
   "metadata": {},
   "source": [
    "The input of the model should be a previous day or a number of days and output is a boolean (snow or not snow). First we will try to predict i it snows using just a previous day information. Thus, time series classification problem can be seen as a normal cclassification problem. The first algotims, we will use are not going to be networks, consequently, train and test datasets are going to be sufficient. We will have 70/30 split. For more complex solutions, we will split get evaluation dataset 70/10/20.\n",
    "\n",
    "We have 10 different stations, which are located in a different places. It means that we should make sure that train and test datasets have all stations equally presented. \n",
    "\n",
    "Let's also check out if our dataset balanced."
   ]
  },
  {
   "cell_type": "code",
   "execution_count": 43,
   "metadata": {},
   "outputs": [
    {
     "data": {
      "image/png": "[encoded data removed]",
      "text/plain": [
       "<Figure size 432x288 with 1 Axes>"
      ]
     },
     "metadata": {
      "needs_background": "light"
     },
     "output_type": "display_data"
    }
   ],
   "source": [
    "plot_snow = df[['snow']].copy()\n",
    "plot_snow[\"plot\"] = \"no snow\"\n",
    "plot_snow.loc[plot_snow[\"snow\"],[\"plot\"]] = \"snow\"\n",
    "plot_snow[\"plot\"].hist(bins=2);"
   ]
  },
  {
   "cell_type": "markdown",
   "metadata": {},
   "source": [
    "We see that we deal with disbalanced data, so we should also avoid the situation when train or test datasets do not have \"snow\" days"
   ]
  },
  {
   "cell_type": "markdown",
   "metadata": {},
   "source": [
    "Since we might have days when a station does not contain information about the next day, we want to save the output of the model in the dataframe"
   ]
  },
  {
   "cell_type": "code",
   "execution_count": 44,
   "metadata": {},
   "outputs": [],
   "source": [
    "output_df = df[[\"snow\"]].copy()\n",
    "output_df = output_df.rename(columns={\"snow\": \"output\"})\n",
    "output_df[\"unique id\"]=  df.apply(lambda x: \n",
    "                                  f\"{str(x['observed_date'] + dt.timedelta(days=1))} - {str(x['station_number'])}\", axis =1)\n",
    "df[\"unique id\"] = df.apply(lambda x: \n",
    "                           f\"{str(x['observed_date'])} - {str(x['station_number'])}\", axis =1)\n",
    "merged_df = df.merge(output_df, how = \"left\", on=\"unique id\")"
   ]
  },
  {
   "cell_type": "markdown",
   "metadata": {},
   "source": [
    "Since we do not know how far away the stations are located, we want to have the same day presented in train and test datasets. We willl use the days first to split the dataset."
   ]
  },
  {
   "cell_type": "code",
   "execution_count": 45,
   "metadata": {},
   "outputs": [
    {
     "name": "stdout",
     "output_type": "stream",
     "text": [
      "There 252 values which do not have information about next day\n"
     ]
    }
   ],
   "source": [
    "print(f\"There {len(merged_df.loc[merged_df['output'].isna()])} values which do not have information about next day\") "
   ]
  },
  {
   "cell_type": "markdown",
   "metadata": {},
   "source": [
    "Let's drop them"
   ]
  },
  {
   "cell_type": "code",
   "execution_count": 46,
   "metadata": {},
   "outputs": [],
   "source": [
    "merged_df = merged_df.loc[~merged_df['output'].isna()].reset_index(drop=True)"
   ]
  },
  {
   "cell_type": "markdown",
   "metadata": {},
   "source": [
    "Let's define, how we split the data."
   ]
  },
  {
   "cell_type": "markdown",
   "metadata": {},
   "source": [
    "First ensure that the day we want to use for prediction is in the test df. For this we need its index. The day is '2009-11-30' but we need a day before to make a prediction."
   ]
  },
  {
   "cell_type": "code",
   "execution_count": 413,
   "metadata": {},
   "outputs": [],
   "source": [
    "ix = merged_df.loc[\n",
    "    merged_df[\"observed_date\"] == dt.datetime.strptime(test_day, '%Y-%m-%d') - dt.timedelta(days=1)].index"
   ]
  },
  {
   "cell_type": "code",
   "execution_count": 856,
   "metadata": {},
   "outputs": [],
   "source": [
    "import numpy as np\n",
    "\n",
    "ix_test_df = np.random.randint(len(merged_df), size=(len(merged_df)*30//100))\n",
    "ix_test_df = np.unique(np.append(ix_test_df,ix))\n",
    "ix_train_df = list(set(range(len(merged_df))).difference(set(ix_test_df)))\n",
    "train_df = merged_df.iloc[ix_train_df]\n",
    "test_df = merged_df.iloc[ix_test_df]"
   ]
  },
  {
   "cell_type": "markdown",
   "metadata": {},
   "source": [
    "Let's check out if all stations are presented:"
   ]
  },
  {
   "cell_type": "code",
   "execution_count": 857,
   "metadata": {},
   "outputs": [
    {
     "name": "stdout",
     "output_type": "stream",
     "text": [
      " train set station_number\n",
      "725300    1325\n",
      "725305    1306\n",
      "725314    1220\n",
      "725315    1345\n",
      "725316    1318\n",
      "725317    1314\n",
      "725320    1311\n",
      "725326    1328\n",
      "725327    1275\n",
      "725330    1352\n",
      "Name: snow, dtype: int64\n",
      " test set station_number\n",
      "725300    470\n",
      "725305    479\n",
      "725314    482\n",
      "725315    461\n",
      "725316    472\n",
      "725317    449\n",
      "725320    476\n",
      "725326    431\n",
      "725327    415\n",
      "725330    443\n",
      "Name: snow, dtype: int64\n"
     ]
    }
   ],
   "source": [
    "print(f\" train set {train_df.groupby('station_number')['snow'].count()}\")\n",
    "print(f\" test set {test_df.groupby('station_number')['snow'].count()}\")"
   ]
  },
  {
   "cell_type": "markdown",
   "metadata": {},
   "source": [
    "We see that all stations are presented for both datasets. Let's check out for snowy and not snowy days"
   ]
  },
  {
   "cell_type": "code",
   "execution_count": 858,
   "metadata": {},
   "outputs": [
    {
     "name": "stdout",
     "output_type": "stream",
     "text": [
      " train set contains 11.386894760959217 of snowy days\n",
      " test set contains 12.123197903014416 of snowy days\n"
     ]
    }
   ],
   "source": [
    "print(f\" train set contains {len(train_df[train_df['snow']])*100/len(train_df)} of snowy days\")\n",
    "print(f\" test set contains {len(test_df[test_df['snow']])*100/len(test_df)} of snowy days\")"
   ]
  },
  {
   "cell_type": "code",
   "execution_count": 859,
   "metadata": {
    "scrolled": true
   },
   "outputs": [],
   "source": [
    "small_ix_test_df = np.random.randint(len(ix_test_df), size=(len(merged_df)*20//100)) \n",
    "small_ix_test_df = ix_test_df[list(small_ix_test_df)]\n",
    "small_ix_test_df = np.unique(np.append(small_ix_test_df,ix))\n",
    "ix_eval = list(set(ix_test_df).difference(set(small_ix_test_df)))\n",
    "eval_df = merged_df.iloc[list(ix_eval)]\n",
    "small_test_df = merged_df.iloc[small_ix_test_df]"
   ]
  },
  {
   "cell_type": "code",
   "execution_count": 860,
   "metadata": {},
   "outputs": [
    {
     "name": "stdout",
     "output_type": "stream",
     "text": [
      " train set station_number\n",
      "725300    1325\n",
      "725305    1306\n",
      "725314    1220\n",
      "725315    1345\n",
      "725316    1318\n",
      "725317    1314\n",
      "725320    1311\n",
      "725326    1328\n",
      "725327    1275\n",
      "725330    1352\n",
      "Name: snow, dtype: int64\n",
      " test set station_number\n",
      "725300    247\n",
      "725305    262\n",
      "725314    262\n",
      "725315    240\n",
      "725316    255\n",
      "725317    217\n",
      "725320    254\n",
      "725326    237\n",
      "725327    213\n",
      "725330    259\n",
      "Name: snow, dtype: int64\n",
      " avaluation set station_number\n",
      "725300    223\n",
      "725305    217\n",
      "725314    220\n",
      "725315    221\n",
      "725316    217\n",
      "725317    232\n",
      "725320    222\n",
      "725326    194\n",
      "725327    202\n",
      "725330    184\n",
      "Name: snow, dtype: int64\n"
     ]
    }
   ],
   "source": [
    "print(f\" train set {train_df.groupby('station_number')['snow'].count()}\")\n",
    "print(f\" test set {small_test_df.groupby('station_number')['snow'].count()}\")\n",
    "print(f\" avaluation set {eval_df.groupby('station_number')['snow'].count()}\")"
   ]
  },
  {
   "cell_type": "code",
   "execution_count": 861,
   "metadata": {},
   "outputs": [
    {
     "name": "stdout",
     "output_type": "stream",
     "text": [
      " train set contains 11.386894760959217 of snowy days\n",
      " test set contains 12.551103843008994 of snowy days\n",
      " avaluation set contains 11.632270168855534 of snowy days\n"
     ]
    }
   ],
   "source": [
    "print(f\" train set contains {len(train_df[train_df['snow']])*100/len(train_df)} of snowy days\")\n",
    "print(f\" test set contains {len(small_test_df[small_test_df['snow']])*100/len(small_test_df)} of snowy days\")\n",
    "print(f\" avaluation set contains {len(eval_df[eval_df['snow']])*100/len(eval_df)} of snowy days\")"
   ]
  },
  {
   "cell_type": "markdown",
   "metadata": {},
   "source": [
    "We would like to get random indexes for eac of the station"
   ]
  },
  {
   "cell_type": "markdown",
   "metadata": {},
   "source": [
    "## Part 2\n",
    "If you made it up to here all by yourself, you can use your prepared dataset to train an algorithm of your choice to forecast whether it will snow on the following date for each station in this dataset:"
   ]
  },
  {
   "cell_type": "code",
   "execution_count": 1004,
   "metadata": {},
   "outputs": [
    {
     "data": {
      "text/plain": [
       "'2009-12-01'"
      ]
     },
     "execution_count": 1004,
     "metadata": {},
     "output_type": "execute_result"
    }
   ],
   "source": [
    "import datetime as dt\n",
    "import pandas as pd\n",
    "from sklearn.manifold import TSNE\n",
    "from sklearn.preprocessing import MinMaxScaler\n",
    "import matplotlib.pyplot as plt\n",
    "from sklearn.neighbors import KNeighborsClassifier\n",
    "from sklearn.metrics import roc_auc_score\n",
    "from sklearn.metrics import accuracy_score\n",
    "import xgboost as xgb\n",
    "from sklearn.metrics import confusion_matrix, ConfusionMatrixDisplay\n",
    "\n",
    "\n",
    "str(dt.datetime.today()- dt.timedelta(days=14*365)).split(' ')[0]"
   ]
  },
  {
   "cell_type": "markdown",
   "metadata": {},
   "source": [
    "You are allowed to use any library you are comfortable with such as sklearn, tensorflow, keras etc. \n",
    "If you did not manage to finish part one feel free to use the data provided in 'coding_challenge.csv' Note that this data does not represent a solution to Part 1. "
   ]
  },
  {
   "cell_type": "code",
   "execution_count": 863,
   "metadata": {},
   "outputs": [],
   "source": [
    "def datetime_to_float(d):\n",
    "    epoch = dt.datetime.utcfromtimestamp(0)\n",
    "    total_seconds =  (d - epoch).total_seconds()\n",
    "    # total_seconds will be in decimals (millisecond precision)\n",
    "    return total_seconds"
   ]
  },
  {
   "cell_type": "markdown",
   "metadata": {},
   "source": [
    "Let's finish the preprocessing of the data"
   ]
  },
  {
   "cell_type": "code",
   "execution_count": 864,
   "metadata": {},
   "outputs": [],
   "source": [
    "X, y = train_df.drop([\"output\", \"unique id\",\"station_number\"], axis =1), train_df[\"output\"].astype(bool)\n",
    "X[\"observed_date\"] = X[\"observed_date\"].apply(lambda x: datetime_to_float(x))\n",
    "X[\"snow\"] = X[\"snow\"].apply(lambda x: float(x))\n",
    "X.reset_index(drop=True, inplace =True)\n",
    "y.reset_index(drop=True, inplace =True)"
   ]
  },
  {
   "cell_type": "code",
   "execution_count": 865,
   "metadata": {},
   "outputs": [],
   "source": [
    "test_X, test_y = test_df.drop([\"output\", \n",
    "                             \"unique id\", \"station_number\"], axis =1), test_df[\"output\"].astype(bool)\n",
    "test_X[\"observed_date\"]= test_X[\"observed_date\"].apply(lambda x: datetime_to_float(x))\n",
    "test_X[\"snow\"] = test_X[\"snow\"].apply(lambda x: float(x))\n",
    "test_X.reset_index(drop=True, inplace =True)\n",
    "test_y.reset_index(drop=True, inplace =True)"
   ]
  },
  {
   "cell_type": "markdown",
   "metadata": {},
   "source": [
    "First what we want to do it to use dmentionality reductionalgorithm to have a bettwe intuition about the splittability pof our data."
   ]
  },
  {
   "cell_type": "code",
   "execution_count": 866,
   "metadata": {},
   "outputs": [],
   "source": [
    "scaler = MinMaxScaler()\n",
    "X_scaled = scaler.fit_transform(X)\n",
    "test_X_scaled = scaler.transform(test_X)"
   ]
  },
  {
   "cell_type": "code",
   "execution_count": 867,
   "metadata": {},
   "outputs": [],
   "source": [
    "X_embedded = TSNE(n_components=2).fit_transform(X_scaled)"
   ]
  },
  {
   "cell_type": "code",
   "execution_count": 868,
   "metadata": {},
   "outputs": [
    {
     "data": {
      "image/png": "[encoded data removed]",
      "text/plain": [
       "<Figure size 720x720 with 1 Axes>"
      ]
     },
     "metadata": {},
     "output_type": "display_data"
    }
   ],
   "source": [
    "plt.figure(figsize=(10, 10)) \n",
    "plt.scatter(X_embedded[y[~y].index][:,0], X_embedded[y[~y].index][:,1], color = \"blue\", alpha = 0.5, s=100)\n",
    "plt.scatter(X_embedded[y[y].index][:,0], X_embedded[y[y].index][:,1], color = \"yellow\", alpha = 0.5, s=100)\n",
    "plt.xticks([])  \n",
    "plt.yticks([]);"
   ]
  },
  {
   "cell_type": "markdown",
   "metadata": {},
   "source": [
    "## KNN"
   ]
  },
  {
   "cell_type": "code",
   "execution_count": 869,
   "metadata": {},
   "outputs": [
    {
     "data": {
      "text/html": [
       "<style>#sk-container-id-93 {color: black;}#sk-container-id-93 pre{padding: 0;}#sk-container-id-93 div.sk-toggleable {background-color: white;}#sk-container-id-93 label.sk-toggleable__label {cursor: pointer;display: block;width: 100%;margin-bottom: 0;padding: 0.3em;box-sizing: border-box;text-align: center;}#sk-container-id-93 label.sk-toggleable__label-arrow:before {content: \"▸\";float: left;margin-right: 0.25em;color: #696969;}#sk-container-id-93 label.sk-toggleable__label-arrow:hover:before {color: black;}#sk-container-id-93 div.sk-estimator:hover label.sk-toggleable__label-arrow:before {color: black;}#sk-container-id-93 div.sk-toggleable__content {max-height: 0;max-width: 0;overflow: hidden;text-align: left;background-color: #f0f8ff;}#sk-container-id-93 div.sk-toggleable__content pre {margin: 0.2em;color: black;border-radius: 0.25em;background-color: #f0f8ff;}#sk-container-id-93 input.sk-toggleable__control:checked~div.sk-toggleable__content {max-height: 200px;max-width: 100%;overflow: auto;}#sk-container-id-93 input.sk-toggleable__control:checked~label.sk-toggleable__label-arrow:before {content: \"▾\";}#sk-container-id-93 div.sk-estimator input.sk-toggleable__control:checked~label.sk-toggleable__label {background-color: #d4ebff;}#sk-container-id-93 div.sk-label input.sk-toggleable__control:checked~label.sk-toggleable__label {background-color: #d4ebff;}#sk-container-id-93 input.sk-hidden--visually {border: 0;clip: rect(1px 1px 1px 1px);clip: rect(1px, 1px, 1px, 1px);height: 1px;margin: -1px;overflow: hidden;padding: 0;position: absolute;width: 1px;}#sk-container-id-93 div.sk-estimator {font-family: monospace;background-color: #f0f8ff;border: 1px dotted black;border-radius: 0.25em;box-sizing: border-box;margin-bottom: 0.5em;}#sk-container-id-93 div.sk-estimator:hover {background-color: #d4ebff;}#sk-container-id-93 div.sk-parallel-item::after {content: \"\";width: 100%;border-bottom: 1px solid gray;flex-grow: 1;}#sk-container-id-93 div.sk-label:hover label.sk-toggleable__label {background-color: #d4ebff;}#sk-container-id-93 div.sk-serial::before {content: \"\";position: absolute;border-left: 1px solid gray;box-sizing: border-box;top: 0;bottom: 0;left: 50%;z-index: 0;}#sk-container-id-93 div.sk-serial {display: flex;flex-direction: column;align-items: center;background-color: white;padding-right: 0.2em;padding-left: 0.2em;position: relative;}#sk-container-id-93 div.sk-item {position: relative;z-index: 1;}#sk-container-id-93 div.sk-parallel {display: flex;align-items: stretch;justify-content: center;background-color: white;position: relative;}#sk-container-id-93 div.sk-item::before, #sk-container-id-93 div.sk-parallel-item::before {content: \"\";position: absolute;border-left: 1px solid gray;box-sizing: border-box;top: 0;bottom: 0;left: 50%;z-index: -1;}#sk-container-id-93 div.sk-parallel-item {display: flex;flex-direction: column;z-index: 1;position: relative;background-color: white;}#sk-container-id-93 div.sk-parallel-item:first-child::after {align-self: flex-end;width: 50%;}#sk-container-id-93 div.sk-parallel-item:last-child::after {align-self: flex-start;width: 50%;}#sk-container-id-93 div.sk-parallel-item:only-child::after {width: 0;}#sk-container-id-93 div.sk-dashed-wrapped {border: 1px dashed gray;margin: 0 0.4em 0.5em 0.4em;box-sizing: border-box;padding-bottom: 0.4em;background-color: white;}#sk-container-id-93 div.sk-label label {font-family: monospace;font-weight: bold;display: inline-block;line-height: 1.2em;}#sk-container-id-93 div.sk-label-container {text-align: center;}#sk-container-id-93 div.sk-container {/* jupyter's `normalize.less` sets `[hidden] { display: none; }` but bootstrap.min.css set `[hidden] { display: none !important; }` so we also need the `!important` here to be able to override the default hidden behavior on the sphinx rendered scikit-learn.org. See: https://github.com/scikit-learn/scikit-learn/issues/21755 */display: inline-block !important;position: relative;}#sk-container-id-93 div.sk-text-repr-fallback {display: none;}</style><div id=\"sk-container-id-93\" class=\"sk-top-container\"><div class=\"sk-text-repr-fallback\"><pre>KNeighborsClassifier(n_neighbors=3)</pre><b>In a Jupyter environment, please rerun this cell to show the HTML representation or trust the notebook. <br />On GitHub, the HTML representation is unable to render, please try loading this page with nbviewer.org.</b></div><div class=\"sk-container\" hidden><div class=\"sk-item\"><div class=\"sk-estimator sk-toggleable\"><input class=\"sk-toggleable__control sk-hidden--visually\" id=\"sk-estimator-id-93\" type=\"checkbox\" checked><label for=\"sk-estimator-id-93\" class=\"sk-toggleable__label sk-toggleable__label-arrow\">KNeighborsClassifier</label><div class=\"sk-toggleable__content\"><pre>KNeighborsClassifier(n_neighbors=3)</pre></div></div></div></div></div>"
      ],
      "text/plain": [
       "KNeighborsClassifier(n_neighbors=3)"
      ]
     },
     "execution_count": 869,
     "metadata": {},
     "output_type": "execute_result"
    }
   ],
   "source": [
    "clf = KNeighborsClassifier(n_neighbors=3)\n",
    "clf.fit(X_scaled, y)"
   ]
  },
  {
   "cell_type": "code",
   "execution_count": 870,
   "metadata": {},
   "outputs": [],
   "source": [
    "train_predict = clf.predict(X_scaled)"
   ]
  },
  {
   "cell_type": "code",
   "execution_count": 876,
   "metadata": {},
   "outputs": [
    {
     "data": {
      "text/plain": [
       "0.7171023281347226"
      ]
     },
     "execution_count": 876,
     "metadata": {},
     "output_type": "execute_result"
    }
   ],
   "source": [
    "roc_auc_score(y, train_predict)"
   ]
  },
  {
   "cell_type": "code",
   "execution_count": 877,
   "metadata": {},
   "outputs": [
    {
     "data": {
      "text/plain": [
       "0.5902600762875816"
      ]
     },
     "execution_count": 877,
     "metadata": {},
     "output_type": "execute_result"
    }
   ],
   "source": [
    "test_X_scaled = scaler.transform(test_X)\n",
    "y_predicted = clf.predict(test_X_scaled)\n",
    "roc_auc_score(test_y, y_predicted)"
   ]
  },
  {
   "cell_type": "code",
   "execution_count": 879,
   "metadata": {},
   "outputs": [
    {
     "data": {
      "text/plain": [
       "0.8717780690257755"
      ]
     },
     "execution_count": 879,
     "metadata": {},
     "output_type": "execute_result"
    }
   ],
   "source": [
    "accuracy_score(test_y, y_predicted)"
   ]
  },
  {
   "cell_type": "markdown",
   "metadata": {},
   "source": [
    "We see that one of the problems is imbalance of the data. Let's see if we could make the train data more balanced. \"0\" means that there was no snow, while \"1\" means that there was snow."
   ]
  },
  {
   "cell_type": "code",
   "execution_count": 903,
   "metadata": {
    "scrolled": false
   },
   "outputs": [
    {
     "data": {
      "image/png": "[encoded data removed]",
      "text/plain": [
       "<Figure size 1440x1440 with 20 Axes>"
      ]
     },
     "metadata": {
      "needs_background": "light"
     },
     "output_type": "display_data"
    }
   ],
   "source": [
    "fig, axs = plt.subplots(nrows=len(df[\"station_number\"].unique()), ncols=2, layout=None, figsize=(20,20))\n",
    "plot_snow = train_df[['snow','station_number']].copy()\n",
    "plot_snow[\"plot\"] = 0\n",
    "plot_snow.loc[plot_snow[\"snow\"],[\"plot\"]] = 1\n",
    "\n",
    "for ax, station in zip(axs.flat[:len(axs)], df[\"station_number\"].unique()):\n",
    "    ax.hist(plot_snow.loc[(plot_snow[\"station_number\"] == station), \"plot\"], bins=2)\n",
    "    ax.set_title(f\"train {station}\")\n",
    "    \n",
    "plot_snow = test_df[['snow','station_number']].copy()\n",
    "plot_snow[\"plot\"] = 0\n",
    "plot_snow.loc[plot_snow[\"snow\"],[\"plot\"]] = 1\n",
    "\n",
    "for ax, station in zip(axs.flat[len(axs):], df[\"station_number\"].unique()):\n",
    "    ax.hist(plot_snow.loc[(plot_snow[\"station_number\"] == station), \"plot\"], bins=2)\n",
    "    ax.set_title(f\"test {station}\")"
   ]
  },
  {
   "cell_type": "markdown",
   "metadata": {},
   "source": [
    "725326 does nothave any snow days"
   ]
  },
  {
   "cell_type": "code",
   "execution_count": 904,
   "metadata": {},
   "outputs": [],
   "source": [
    "bal_train_df = train_df[train_df[\"station_number\"]!=725326]"
   ]
  },
  {
   "cell_type": "code",
   "execution_count": 906,
   "metadata": {},
   "outputs": [
    {
     "name": "stdout",
     "output_type": "stream",
     "text": [
      " train set contains 12.672106068332484 of snowy days\n",
      " test set contains 12.123197903014416 of snowy days\n"
     ]
    }
   ],
   "source": [
    "print(f\" train set contains {len(bal_train_df[bal_train_df['snow']])*100/len(bal_train_df)} of snowy days\")\n",
    "print(f\" test set contains {len(test_df[test_df['snow']])*100/len(test_df)} of snowy days\")"
   ]
  },
  {
   "cell_type": "code",
   "execution_count": 907,
   "metadata": {},
   "outputs": [
    {
     "name": "stdout",
     "output_type": "stream",
     "text": [
      "station 725314: train set contains 10.655737704918034 of snowy days\n",
      "station 725314: test set contains 9.336099585062241 of snowy days \n",
      "\n",
      "station 725317: train set contains 9.74124809741248 of snowy days\n",
      "station 725317: test set contains 10.244988864142538 of snowy days \n",
      "\n",
      "station 725315: train set contains 10.557620817843866 of snowy days\n",
      "station 725315: test set contains 13.882863340563992 of snowy days \n",
      "\n",
      "station 725316: train set contains 9.408194233687405 of snowy days\n",
      "station 725316: test set contains 7.838983050847458 of snowy days \n",
      "\n",
      "station 725327: train set contains 13.803921568627452 of snowy days\n",
      "station 725327: test set contains 16.3855421686747 of snowy days \n",
      "\n",
      "station 725320: train set contains 16.399694889397406 of snowy days\n",
      "station 725320: test set contains 18.48739495798319 of snowy days \n",
      "\n",
      "station 725305: train set contains 12.710566615620214 of snowy days\n",
      "station 725305: test set contains 12.734864300626304 of snowy days \n",
      "\n",
      "station 725300: train set contains 11.39622641509434 of snowy days\n",
      "station 725300: test set contains 12.340425531914894 of snowy days \n",
      "\n",
      "station 725330: train set contains 19.15680473372781 of snowy days\n",
      "station 725330: test set contains 19.864559819413092 of snowy days \n",
      "\n"
     ]
    }
   ],
   "source": [
    "#the percentage of snow days per each station number\n",
    "for station in bal_train_df[\"station_number\"].unique():\n",
    "    part = bal_train_df.loc[bal_train_df[\"station_number\"] == station]\n",
    "    print(f\"station {station}: train set contains {len(part[(part['snow'])])*100/len(part)} of snowy days\")\n",
    "    part = test_df.loc[test_df[\"station_number\"] == station]\n",
    "    print(f\"station {station}: test set contains {len(part[part['snow']])*100/len(part)} of snowy days \\n\")"
   ]
  },
  {
   "cell_type": "code",
   "execution_count": 908,
   "metadata": {},
   "outputs": [],
   "source": [
    "#clean the dataset from some not snowy days\n",
    "not_snow_df = bal_train_df[~bal_train_df[\"snow\"]]\n",
    "not_snow_ix = np.random.randint(len(not_snow_df), size=(len(not_snow_df)*50//100))\n",
    "bal_train_df = pd.concat([bal_train_df[bal_train_df[\"snow\"]] ,\n",
    "                      bal_train_df[~bal_train_df[\"snow\"]].reset_index(drop=True).drop(not_snow_ix)])"
   ]
  },
  {
   "cell_type": "code",
   "execution_count": 909,
   "metadata": {},
   "outputs": [
    {
     "name": "stdout",
     "output_type": "stream",
     "text": [
      "station 725317: train set contains 15.421686746987952 of snowy days\n",
      "station 725317: test set contains 10.244988864142538 of snowy days \n",
      "\n",
      "station 725314: train set contains 16.189290161892902 of snowy days\n",
      "station 725314: test set contains 9.336099585062241 of snowy days \n",
      "\n",
      "station 725320: train set contains 24.37641723356009 of snowy days\n",
      "station 725320: test set contains 18.48739495798319 of snowy days \n",
      "\n",
      "station 725330: train set contains 27.759914255091104 of snowy days\n",
      "station 725330: test set contains 19.864559819413092 of snowy days \n",
      "\n",
      "station 725327: train set contains 20.927467300832344 of snowy days\n",
      "station 725327: test set contains 16.3855421686747 of snowy days \n",
      "\n",
      "station 725315: train set contains 16.099773242630384 of snowy days\n",
      "station 725315: test set contains 13.882863340563992 of snowy days \n",
      "\n",
      "station 725305: train set contains 19.212962962962962 of snowy days\n",
      "station 725305: test set contains 12.734864300626304 of snowy days \n",
      "\n",
      "station 725316: train set contains 14.553990610328638 of snowy days\n",
      "station 725316: test set contains 7.838983050847458 of snowy days \n",
      "\n",
      "station 725300: train set contains 17.785630153121318 of snowy days\n",
      "station 725300: test set contains 12.340425531914894 of snowy days \n",
      "\n"
     ]
    }
   ],
   "source": [
    "for station in bal_train_df[\"station_number\"].unique():\n",
    "    part = bal_train_df.loc[bal_train_df[\"station_number\"] == station]\n",
    "    print(f\"station {station}: train set contains {len(part[(part['snow'])])*100/len(part)} of snowy days\")\n",
    "    part = test_df.loc[test_df[\"station_number\"] == station]\n",
    "    print(f\"station {station}: test set contains {len(part[part['snow']])*100/len(part)} of snowy days \\n\")"
   ]
  },
  {
   "cell_type": "code",
   "execution_count": 910,
   "metadata": {},
   "outputs": [
    {
     "data": {
      "text/plain": [
       "'New train dataset has 7736 samples'"
      ]
     },
     "execution_count": 910,
     "metadata": {},
     "output_type": "execute_result"
    }
   ],
   "source": [
    "f\"New train dataset has {len(bal_train_df)} samples\""
   ]
  },
  {
   "cell_type": "code",
   "execution_count": 911,
   "metadata": {},
   "outputs": [],
   "source": [
    "bal_X, bar_y = bal_train_df.drop([\"output\", \"unique id\",\"station_number\"], axis =1), bal_train_df[\"output\"].astype(bool)\n",
    "bal_X[\"observed_date\"] = bal_X[\"observed_date\"].apply(lambda x: datetime_to_float(x))\n",
    "bal_X[\"snow\"] = bal_X[\"snow\"].apply(lambda x: float(x))\n",
    "bal_X.reset_index(drop=True, inplace =True)\n",
    "bal_X.reset_index(drop=True, inplace =True)\n",
    "scaler = MinMaxScaler()\n",
    "bal_X_scaled = scaler.fit_transform(bal_X)"
   ]
  },
  {
   "cell_type": "code",
   "execution_count": 912,
   "metadata": {},
   "outputs": [
    {
     "data": {
      "text/html": [
       "<style>#sk-container-id-95 {color: black;}#sk-container-id-95 pre{padding: 0;}#sk-container-id-95 div.sk-toggleable {background-color: white;}#sk-container-id-95 label.sk-toggleable__label {cursor: pointer;display: block;width: 100%;margin-bottom: 0;padding: 0.3em;box-sizing: border-box;text-align: center;}#sk-container-id-95 label.sk-toggleable__label-arrow:before {content: \"▸\";float: left;margin-right: 0.25em;color: #696969;}#sk-container-id-95 label.sk-toggleable__label-arrow:hover:before {color: black;}#sk-container-id-95 div.sk-estimator:hover label.sk-toggleable__label-arrow:before {color: black;}#sk-container-id-95 div.sk-toggleable__content {max-height: 0;max-width: 0;overflow: hidden;text-align: left;background-color: #f0f8ff;}#sk-container-id-95 div.sk-toggleable__content pre {margin: 0.2em;color: black;border-radius: 0.25em;background-color: #f0f8ff;}#sk-container-id-95 input.sk-toggleable__control:checked~div.sk-toggleable__content {max-height: 200px;max-width: 100%;overflow: auto;}#sk-container-id-95 input.sk-toggleable__control:checked~label.sk-toggleable__label-arrow:before {content: \"▾\";}#sk-container-id-95 div.sk-estimator input.sk-toggleable__control:checked~label.sk-toggleable__label {background-color: #d4ebff;}#sk-container-id-95 div.sk-label input.sk-toggleable__control:checked~label.sk-toggleable__label {background-color: #d4ebff;}#sk-container-id-95 input.sk-hidden--visually {border: 0;clip: rect(1px 1px 1px 1px);clip: rect(1px, 1px, 1px, 1px);height: 1px;margin: -1px;overflow: hidden;padding: 0;position: absolute;width: 1px;}#sk-container-id-95 div.sk-estimator {font-family: monospace;background-color: #f0f8ff;border: 1px dotted black;border-radius: 0.25em;box-sizing: border-box;margin-bottom: 0.5em;}#sk-container-id-95 div.sk-estimator:hover {background-color: #d4ebff;}#sk-container-id-95 div.sk-parallel-item::after {content: \"\";width: 100%;border-bottom: 1px solid gray;flex-grow: 1;}#sk-container-id-95 div.sk-label:hover label.sk-toggleable__label {background-color: #d4ebff;}#sk-container-id-95 div.sk-serial::before {content: \"\";position: absolute;border-left: 1px solid gray;box-sizing: border-box;top: 0;bottom: 0;left: 50%;z-index: 0;}#sk-container-id-95 div.sk-serial {display: flex;flex-direction: column;align-items: center;background-color: white;padding-right: 0.2em;padding-left: 0.2em;position: relative;}#sk-container-id-95 div.sk-item {position: relative;z-index: 1;}#sk-container-id-95 div.sk-parallel {display: flex;align-items: stretch;justify-content: center;background-color: white;position: relative;}#sk-container-id-95 div.sk-item::before, #sk-container-id-95 div.sk-parallel-item::before {content: \"\";position: absolute;border-left: 1px solid gray;box-sizing: border-box;top: 0;bottom: 0;left: 50%;z-index: -1;}#sk-container-id-95 div.sk-parallel-item {display: flex;flex-direction: column;z-index: 1;position: relative;background-color: white;}#sk-container-id-95 div.sk-parallel-item:first-child::after {align-self: flex-end;width: 50%;}#sk-container-id-95 div.sk-parallel-item:last-child::after {align-self: flex-start;width: 50%;}#sk-container-id-95 div.sk-parallel-item:only-child::after {width: 0;}#sk-container-id-95 div.sk-dashed-wrapped {border: 1px dashed gray;margin: 0 0.4em 0.5em 0.4em;box-sizing: border-box;padding-bottom: 0.4em;background-color: white;}#sk-container-id-95 div.sk-label label {font-family: monospace;font-weight: bold;display: inline-block;line-height: 1.2em;}#sk-container-id-95 div.sk-label-container {text-align: center;}#sk-container-id-95 div.sk-container {/* jupyter's `normalize.less` sets `[hidden] { display: none; }` but bootstrap.min.css set `[hidden] { display: none !important; }` so we also need the `!important` here to be able to override the default hidden behavior on the sphinx rendered scikit-learn.org. See: https://github.com/scikit-learn/scikit-learn/issues/21755 */display: inline-block !important;position: relative;}#sk-container-id-95 div.sk-text-repr-fallback {display: none;}</style><div id=\"sk-container-id-95\" class=\"sk-top-container\"><div class=\"sk-text-repr-fallback\"><pre>KNeighborsClassifier(n_neighbors=3)</pre><b>In a Jupyter environment, please rerun this cell to show the HTML representation or trust the notebook. <br />On GitHub, the HTML representation is unable to render, please try loading this page with nbviewer.org.</b></div><div class=\"sk-container\" hidden><div class=\"sk-item\"><div class=\"sk-estimator sk-toggleable\"><input class=\"sk-toggleable__control sk-hidden--visually\" id=\"sk-estimator-id-95\" type=\"checkbox\" checked><label for=\"sk-estimator-id-95\" class=\"sk-toggleable__label sk-toggleable__label-arrow\">KNeighborsClassifier</label><div class=\"sk-toggleable__content\"><pre>KNeighborsClassifier(n_neighbors=3)</pre></div></div></div></div></div>"
      ],
      "text/plain": [
       "KNeighborsClassifier(n_neighbors=3)"
      ]
     },
     "execution_count": 912,
     "metadata": {},
     "output_type": "execute_result"
    }
   ],
   "source": [
    "clf = KNeighborsClassifier(n_neighbors=3)\n",
    "clf.fit(bal_X_scaled, bar_y)"
   ]
  },
  {
   "cell_type": "code",
   "execution_count": 913,
   "metadata": {},
   "outputs": [
    {
     "data": {
      "text/plain": [
       "0.7351637297532562"
      ]
     },
     "execution_count": 913,
     "metadata": {},
     "output_type": "execute_result"
    }
   ],
   "source": [
    "train_predict = clf.predict(bal_X_scaled)\n",
    "roc_auc_score(bar_y, train_predict)"
   ]
  },
  {
   "cell_type": "code",
   "execution_count": 1007,
   "metadata": {},
   "outputs": [
    {
     "data": {
      "text/plain": [
       "0.5818203511569308"
      ]
     },
     "execution_count": 1007,
     "metadata": {},
     "output_type": "execute_result"
    }
   ],
   "source": [
    "test_X_scaled = scaler.transform(test_X)\n",
    "y_predicted = clf.predict(test_X_scaled)\n",
    "roc_auc_score(test_y, y_predicted)"
   ]
  },
  {
   "cell_type": "code",
   "execution_count": 915,
   "metadata": {},
   "outputs": [
    {
     "data": {
      "text/plain": [
       "0.8606378331148974"
      ]
     },
     "execution_count": 915,
     "metadata": {},
     "output_type": "execute_result"
    }
   ],
   "source": [
    "accuracy_score(test_y, y_predicted)"
   ]
  },
  {
   "cell_type": "code",
   "execution_count": 1008,
   "metadata": {},
   "outputs": [
    {
     "data": {
      "image/png": "[encoded data removed]",
      "text/plain": [
       "<Figure size 432x288 with 2 Axes>"
      ]
     },
     "metadata": {
      "needs_background": "light"
     },
     "output_type": "display_data"
    }
   ],
   "source": [
    "cm = confusion_matrix(test_y, y_predicted) \n",
    "disp = ConfusionMatrixDisplay(confusion_matrix=cm,\n",
    "                               display_labels=model.classes_)\n",
    "disp.plot()\n",
    "plt.show()"
   ]
  },
  {
   "cell_type": "markdown",
   "metadata": {},
   "source": [
    "### Summary on KNN\n",
    "The KNN model tend to define days to have snow even if there was none.Half of the days which were predicted to snow, did not have snow."
   ]
  },
  {
   "cell_type": "code",
   "execution_count": 1009,
   "metadata": {},
   "outputs": [
    {
     "name": "stdout",
     "output_type": "stream",
     "text": [
      "It did not snow. It is predicted not to snow\n",
      "It did not snow. It is predicted not to snow\n",
      "It did not snow. It is predicted not to snow\n",
      "It snowed. It is predicted not to snow\n",
      "It did not snow. It is predicted not to snow\n",
      "It did not snow. It is predicted not to snow\n",
      "It did not snow. It is predicted not to snow\n",
      "It did not snow. It is predicted not to snow\n",
      "It did not snow. It is predicted not to snow\n"
     ]
    }
   ],
   "source": [
    "last_test = small_test_df.loc[small_test_df[\"observed_date\"] == '2009-11-30']\n",
    "last_X, last_y = last_test.drop([\"output\", \"unique id\",\"station_number\"], axis =1), \\\n",
    "                 last_test[\"output\"].astype(bool)\n",
    "last_X[\"observed_date\"] = last_X[\"observed_date\"].apply(lambda x: datetime_to_float(x))\n",
    "last_X[\"snow\"] = last_X[\"snow\"].apply(lambda x: float(x))\n",
    "last_X_scaled = scaler.transform(last_X)\n",
    "y_predicted = model.predict(last_X_scaled)\n",
    "last_y.reset_index(drop=True, inplace=True)\n",
    "for i, pred in enumerate(y_predicted):\n",
    "    print(f\"It {'snowed' if last_y.iloc[i] else 'did not snow'}. It is predicted {'to snow' if pred else 'not to snow'}\")"
   ]
  },
  {
   "cell_type": "markdown",
   "metadata": {},
   "source": [
    "## XGBOOST"
   ]
  },
  {
   "cell_type": "markdown",
   "metadata": {},
   "source": [
    "Since KNN did not perform well, we will try tp gain a better result with a tree algorithm: XGBOOST. First, we should prepare threee sets: train, test and evaluation."
   ]
  },
  {
   "cell_type": "code",
   "execution_count": 917,
   "metadata": {},
   "outputs": [],
   "source": [
    "#scaling and preprocessing\n",
    "scaler = MinMaxScaler()\n",
    "X_scaled = scaler.fit_transform(X)\n",
    "\n",
    "eval_X, eval_y = eval_df.drop([\"output\", \"unique id\",\"station_number\"], axis =1), \\\n",
    "                 eval_df[\"output\"].astype(bool)\n",
    "eval_X[\"observed_date\"] = eval_X[\"observed_date\"].apply(lambda x: datetime_to_float(x))\n",
    "eval_X[\"snow\"] = eval_X[\"snow\"].apply(lambda x: float(x))\n",
    "eval_X_scaled = scaler.transform(eval_X)\n"
   ]
  },
  {
   "cell_type": "code",
   "execution_count": 918,
   "metadata": {},
   "outputs": [],
   "source": [
    "small_X_test, small_y_test = small_test_df.drop([\"output\", \"unique id\",\"station_number\"], axis =1), \\\n",
    "                 small_test_df[\"output\"].astype(bool)\n",
    "small_X_test[\"observed_date\"] = small_X_test[\"observed_date\"].apply(lambda x: datetime_to_float(x))\n",
    "small_X_test[\"snow\"] = small_X_test[\"snow\"].apply(lambda x: float(x))\n",
    "small_X_test_scaled = scaler.transform(small_X_test)"
   ]
  },
  {
   "cell_type": "markdown",
   "metadata": {},
   "source": [
    "There is a way to weigh the positive values more. It is a handy feature for imbalanced dataset. We want to try out different weights to get the best results."
   ]
  },
  {
   "cell_type": "code",
   "execution_count": 948,
   "metadata": {},
   "outputs": [],
   "source": [
    "pos_weights = [1, 5, 10, 15, 20, 25, 30, 35]"
   ]
  },
  {
   "cell_type": "code",
   "execution_count": 963,
   "metadata": {},
   "outputs": [],
   "source": [
    "train_res = []\n",
    "eval_res = []\n",
    "for weight in pos_weights:\n",
    "    model = xgb.XGBClassifier(scale_pos_weight = weight, random_state = 0)\n",
    "    #we will use early stoping based on AUC metric to avoid overfitting which we saw with KNN\n",
    "    model = model.set_params(callbacks = [xgb.callback.EarlyStopping(rounds=5,save_best=True)],\n",
    "                             eval_metric= \"auc\")\n",
    "    model.fit(X_scaled, y, eval_set=[(X_scaled, y), (eval_X_scaled, eval_y)], verbose = False)\n",
    "    y_predicted = model.predict(eval_X_scaled)\n",
    "    eval_res.append(roc_auc_score(eval_y, y_predicted))\n",
    "    y_predicted = model.predict(X_scaled)\n",
    "    train_res.append(roc_auc_score(y, y_predicted))"
   ]
  },
  {
   "cell_type": "code",
   "execution_count": 1011,
   "metadata": {},
   "outputs": [
    {
     "data": {
      "image/png": "[encoded data removed]",
      "text/plain": [
       "<Figure size 432x288 with 1 Axes>"
      ]
     },
     "metadata": {
      "needs_background": "light"
     },
     "output_type": "display_data"
    }
   ],
   "source": [
    "plt.plot(pos_weights,train_res, color = \"red\", label = \"train\")\n",
    "plt.plot(pos_weights,eval_res, color = \"blue\", label = \"eval\")\n",
    "plt.legend()\n",
    "plt.title(\"Comparison between train and evaluation AUC metrics for different weights\")\n",
    "plt.ylim(0,1);"
   ]
  },
  {
   "cell_type": "code",
   "execution_count": 1014,
   "metadata": {},
   "outputs": [
    {
     "name": "stdout",
     "output_type": "stream",
     "text": [
      "Final training accuracy  0.8008806673510233\n",
      "Final evaluation accuracy  0.7133363521253134\n",
      "Final test accuracy  0.7299679487179487\n"
     ]
    }
   ],
   "source": [
    "#We see that the tree is also overfitting\n",
    "#We see the the scaling number 10 delivers the best results on evaluation and train dataset\n",
    "#Since all models overfit, we choose \"10\" as a hyperparamter\n",
    "model = xgb.XGBClassifier(scale_pos_weight = 10, random_state = 0)\n",
    "model = model.set_params(callbacks = [xgb.callback.EarlyStopping(rounds=5,save_best=True)],\n",
    "                         eval_metric= \"auc\")\n",
    "model.fit(X_scaled, y, eval_set=[(X_scaled, y), (eval_X_scaled, eval_y)], verbose = False)\n",
    "\n",
    "y_predicted = model.predict(X_scaled)\n",
    "print(\"Final training accuracy \" ,roc_auc_score(y, y_predicted))\n",
    "\n",
    "y_predicted = model.predict(eval_X_scaled)\n",
    "print(\"Final evaluation accuracy \" ,roc_auc_score(eval_y, y_predicted))\n",
    "\n",
    "y_predicted = model.predict(small_X_test_scaled)\n",
    "print(\"Final test accuracy \" ,roc_auc_score(small_y_test, y_predicted))"
   ]
  },
  {
   "cell_type": "markdown",
   "metadata": {},
   "source": [
    "Let's get more insights about the model and have a look on confusion mmatrix"
   ]
  },
  {
   "cell_type": "code",
   "execution_count": 1016,
   "metadata": {},
   "outputs": [
    {
     "data": {
      "image/png": "[encoded data removed]",
      "text/plain": [
       "<Figure size 432x288 with 2 Axes>"
      ]
     },
     "metadata": {
      "needs_background": "light"
     },
     "output_type": "display_data"
    }
   ],
   "source": [
    "cm = confusion_matrix(small_y_test, y_predicted) \n",
    "disp = ConfusionMatrixDisplay(confusion_matrix=cm,\n",
    "                               display_labels=model.classes_)\n",
    "disp.plot()\n",
    "plt.title(\"Confusion matrix\")\n",
    "plt.show()"
   ]
  },
  {
   "cell_type": "markdown",
   "metadata": {},
   "source": [
    "We see that the model is still heavily affected by imbalance: more then a half of \"snowy\" days are not predicted correctly. The model tend to do less false negative results."
   ]
  },
  {
   "cell_type": "markdown",
   "metadata": {},
   "source": [
    "Let's see how our model works and if it snowed on 2009-12-01. We need to find '2009-11-30'."
   ]
  },
  {
   "cell_type": "code",
   "execution_count": 998,
   "metadata": {},
   "outputs": [
    {
     "name": "stdout",
     "output_type": "stream",
     "text": [
      "It did not snow. It is predicted not to snow\n",
      "It did not snow. It is predicted not to snow\n",
      "It did not snow. It is predicted not to snow\n",
      "It snowed. It is predicted not to snow\n",
      "It did not snow. It is predicted not to snow\n",
      "It did not snow. It is predicted not to snow\n",
      "It did not snow. It is predicted not to snow\n",
      "It did not snow. It is predicted not to snow\n",
      "It did not snow. It is predicted not to snow\n"
     ]
    }
   ],
   "source": [
    "last_test = small_test_df.loc[small_test_df[\"observed_date\"] == '2009-11-30']\n",
    "last_X, last_y = last_test.drop([\"output\", \"unique id\",\"station_number\"], axis =1), \\\n",
    "                 last_test[\"output\"].astype(bool)\n",
    "last_X[\"observed_date\"] = last_X[\"observed_date\"].apply(lambda x: datetime_to_float(x))\n",
    "last_X[\"snow\"] = last_X[\"snow\"].apply(lambda x: float(x))\n",
    "last_X_scaled = scaler.transform(last_X)\n",
    "y_predicted = model.predict(last_X_scaled)\n",
    "last_y.reset_index(drop=True, inplace=True)\n",
    "for i, pred in enumerate(y_predicted):\n",
    "    print(f\"It {'snowed' if last_y.iloc[i] else 'did not snow'}. It is predicted {'to snow' if pred else 'not to snow'}\")"
   ]
  },
  {
   "cell_type": "markdown",
   "metadata": {},
   "source": [
    "### Summary"
   ]
  },
  {
   "cell_type": "markdown",
   "metadata": {},
   "source": [
    "Since the goal of the model is to predict if the next day is snowy, we can see that both mmodels struggle with it. XGBoost tree tends to label mmore days as snowy, while KNN does not snowy days as those which have snow."
   ]
  }
 ],
 "metadata": {
  "kernelspec": {
   "display_name": "Python 3",
   "language": "python",
   "name": "python3"
  },
  "language_info": {
   "codemirror_mode": {
    "name": "ipython",
    "version": 3
   },
   "file_extension": ".py",
   "mimetype": "text/x-python",
   "name": "python",
   "nbconvert_exporter": "python",
   "pygments_lexer": "ipython3",
   "version": "3.8.18"
  }
 },
 "nbformat": 4,
 "nbformat_minor": 4
}
